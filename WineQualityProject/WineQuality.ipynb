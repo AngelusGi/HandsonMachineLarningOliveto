{
 "cells": [
  {
   "cell_type": "markdown",
   "metadata": {},
   "source": [
    "# Exam project \"Hands-on machine learning\"\n",
    "\n",
    "## Project description:\n",
    "\n",
    "## Dataset reference:\n",
    "> P. Cortez, A. Cerdeira, F. Almeida, T. Matos and J. Reis.<br>\n",
    "> Modeling wine preferences by data mining from physicochemical properties. In Decision Support Systems, Elsevier, 47(4):547-553, 2009.<br>\n",
    "\n",
    "[Wine Quality Data Set - Download from UCI Machine Learning Repository](https://archive.ics.uci.edu/ml/datasets/wine+quality)\n",
    "\n",
    "## Data Set Information:\n",
    "\n",
    "The two datasets are related to red and white variants of the Portuguese \"Vinho Verde\" wine. For more details, consult: [Web Link] or the reference [Cortez et al., 2009]. Due to privacy and logistic issues, only physicochemical (inputs) and sensory (the output) variables are available (e.g. there is no data about grape types, wine brand, wine selling price, etc.).\n",
    "\n",
    "These datasets can be viewed as classification or regression tasks. The classes are ordered and not balanced (e.g. there are many more normal wines than excellent or poor ones). Outlier detection algorithms could be used to detect the few excellent or poor wines. Also, we are not sure if all input variables are relevant. So it could be interesting to test feature selection methods.\n",
    "\n",
    "\n",
    "## Attribute Information:\n",
    "\n",
    "For more information, read [Cortez et al., 2009].\n",
    "Input variables (based on physicochemical tests):\n",
    "1 - fixed acidity\n",
    "2 - volatile acidity\n",
    "3 - citric acid\n",
    "4 - residual sugar\n",
    "5 - chlorides\n",
    "6 - free sulfur dioxide\n",
    "7 - total sulfur dioxide\n",
    "8 - density\n",
    "9 - pH\n",
    "10 - sulphates\n",
    "11 - alcohol\n",
    "Output variable (based on sensory data):\n",
    "12 - quality (score between 0 and 10)\n",
    "\n",
    "[Source](https://archive.ics.uci.edu/ml/datasets/wine+quality)\n"
   ]
  },
  {
   "cell_type": "markdown",
   "metadata": {},
   "source": [
    "### Library import and envirnment setup"
   ]
  },
  {
   "cell_type": "code",
   "execution_count": 48,
   "metadata": {},
   "outputs": [
    {
     "output_type": "stream",
     "name": "stdout",
     "text": "Collecting package metadata (current_repodata.json): ...working... done\nSolving environment: ...working... done\n\n# All requested packages already installed.\n\n\nNote: you may need to restart the kernel to use updated packages.\nUsing matplotlib backend: Qt5Agg\n"
    }
   ],
   "source": [
    "%conda install imbalanced-learn\n",
    "%matplotlib\n",
    "import pandas as pd\n",
    "import matplotlib.pyplot as plot\n",
    "import seaborn as sns\n",
    "import os\n",
    "from sklearn import preprocessing \n",
    "from sklearn.preprocessing import LabelEncoder\n",
    "from sklearn.model_selection import train_test_split\n",
    "from sklearn.svm import SVC\n",
    "from sklearn.ensemble import RandomForestClassifier\n",
    "from sklearn.neighbors import KNeighborsClassifier\n",
    "from sklearn.metrics import accuracy_score, precision_score, recall_score, f1_score, roc_auc_score, confusion_matrix\n",
    "from sklearn.preprocessing import MinMaxScaler\n",
    "# from imblearn.under_sampling import RandomUnderSampler\n",
    "# from imblearn.over_sampling import RandomOverSampler\n",
    "from sklearn.metrics import roc_curve\n"
   ]
  },
  {
   "cell_type": "markdown",
   "metadata": {},
   "source": [
    "### Import Dataset"
   ]
  },
  {
   "cell_type": "code",
   "execution_count": 49,
   "metadata": {},
   "outputs": [],
   "source": [
    "white_wine = pd.read_csv(\".\\DataSet\\winequality-white.csv\", sep=\";\",quotechar='\"')\n",
    "\n",
    "# red_wine = pd.read_csv(\".\\DataSet\\winequality-red.csv\", sep=\";\",quotechar='\"')\n"
   ]
  },
  {
   "cell_type": "markdown",
   "metadata": {},
   "source": [
    "### Dataset esploration"
   ]
  },
  {
   "cell_type": "code",
   "execution_count": 50,
   "metadata": {},
   "outputs": [
    {
     "output_type": "stream",
     "name": "stdout",
     "text": "<class 'pandas.core.frame.DataFrame'>\nRangeIndex: 4898 entries, 0 to 4897\nData columns (total 12 columns):\n #   Column                Non-Null Count  Dtype  \n---  ------                --------------  -----  \n 0   fixed acidity         4898 non-null   float64\n 1   volatile acidity      4898 non-null   float64\n 2   citric acid           4898 non-null   float64\n 3   residual sugar        4898 non-null   float64\n 4   chlorides             4898 non-null   float64\n 5   free sulfur dioxide   4898 non-null   float64\n 6   total sulfur dioxide  4898 non-null   float64\n 7   density               4898 non-null   float64\n 8   pH                    4898 non-null   float64\n 9   sulphates             4898 non-null   float64\n 10  alcohol               4898 non-null   float64\n 11  quality               4898 non-null   int64  \ndtypes: float64(11), int64(1)\nmemory usage: 459.3 KB\n"
    }
   ],
   "source": [
    "white_wine.info()\n"
   ]
  },
  {
   "cell_type": "code",
   "execution_count": 51,
   "metadata": {},
   "outputs": [
    {
     "output_type": "execute_result",
     "data": {
      "text/plain": "       fixed acidity  volatile acidity  citric acid  residual sugar  \\\ncount    4898.000000       4898.000000  4898.000000     4898.000000   \nmean        6.854788          0.278241     0.334192        6.391415   \nstd         0.843868          0.100795     0.121020        5.072058   \nmin         3.800000          0.080000     0.000000        0.600000   \n25%         6.300000          0.210000     0.270000        1.700000   \n50%         6.800000          0.260000     0.320000        5.200000   \n75%         7.300000          0.320000     0.390000        9.900000   \nmax        14.200000          1.100000     1.660000       65.800000   \n\n         chlorides  free sulfur dioxide  total sulfur dioxide      density  \\\ncount  4898.000000          4898.000000           4898.000000  4898.000000   \nmean      0.045772            35.308085            138.360657     0.994027   \nstd       0.021848            17.007137             42.498065     0.002991   \nmin       0.009000             2.000000              9.000000     0.987110   \n25%       0.036000            23.000000            108.000000     0.991723   \n50%       0.043000            34.000000            134.000000     0.993740   \n75%       0.050000            46.000000            167.000000     0.996100   \nmax       0.346000           289.000000            440.000000     1.038980   \n\n                pH    sulphates      alcohol      quality  \ncount  4898.000000  4898.000000  4898.000000  4898.000000  \nmean      3.188267     0.489847    10.514267     5.877909  \nstd       0.151001     0.114126     1.230621     0.885639  \nmin       2.720000     0.220000     8.000000     3.000000  \n25%       3.090000     0.410000     9.500000     5.000000  \n50%       3.180000     0.470000    10.400000     6.000000  \n75%       3.280000     0.550000    11.400000     6.000000  \nmax       3.820000     1.080000    14.200000     9.000000  ",
      "text/html": "<div>\n<style scoped>\n    .dataframe tbody tr th:only-of-type {\n        vertical-align: middle;\n    }\n\n    .dataframe tbody tr th {\n        vertical-align: top;\n    }\n\n    .dataframe thead th {\n        text-align: right;\n    }\n</style>\n<table border=\"1\" class=\"dataframe\">\n  <thead>\n    <tr style=\"text-align: right;\">\n      <th></th>\n      <th>fixed acidity</th>\n      <th>volatile acidity</th>\n      <th>citric acid</th>\n      <th>residual sugar</th>\n      <th>chlorides</th>\n      <th>free sulfur dioxide</th>\n      <th>total sulfur dioxide</th>\n      <th>density</th>\n      <th>pH</th>\n      <th>sulphates</th>\n      <th>alcohol</th>\n      <th>quality</th>\n    </tr>\n  </thead>\n  <tbody>\n    <tr>\n      <th>count</th>\n      <td>4898.000000</td>\n      <td>4898.000000</td>\n      <td>4898.000000</td>\n      <td>4898.000000</td>\n      <td>4898.000000</td>\n      <td>4898.000000</td>\n      <td>4898.000000</td>\n      <td>4898.000000</td>\n      <td>4898.000000</td>\n      <td>4898.000000</td>\n      <td>4898.000000</td>\n      <td>4898.000000</td>\n    </tr>\n    <tr>\n      <th>mean</th>\n      <td>6.854788</td>\n      <td>0.278241</td>\n      <td>0.334192</td>\n      <td>6.391415</td>\n      <td>0.045772</td>\n      <td>35.308085</td>\n      <td>138.360657</td>\n      <td>0.994027</td>\n      <td>3.188267</td>\n      <td>0.489847</td>\n      <td>10.514267</td>\n      <td>5.877909</td>\n    </tr>\n    <tr>\n      <th>std</th>\n      <td>0.843868</td>\n      <td>0.100795</td>\n      <td>0.121020</td>\n      <td>5.072058</td>\n      <td>0.021848</td>\n      <td>17.007137</td>\n      <td>42.498065</td>\n      <td>0.002991</td>\n      <td>0.151001</td>\n      <td>0.114126</td>\n      <td>1.230621</td>\n      <td>0.885639</td>\n    </tr>\n    <tr>\n      <th>min</th>\n      <td>3.800000</td>\n      <td>0.080000</td>\n      <td>0.000000</td>\n      <td>0.600000</td>\n      <td>0.009000</td>\n      <td>2.000000</td>\n      <td>9.000000</td>\n      <td>0.987110</td>\n      <td>2.720000</td>\n      <td>0.220000</td>\n      <td>8.000000</td>\n      <td>3.000000</td>\n    </tr>\n    <tr>\n      <th>25%</th>\n      <td>6.300000</td>\n      <td>0.210000</td>\n      <td>0.270000</td>\n      <td>1.700000</td>\n      <td>0.036000</td>\n      <td>23.000000</td>\n      <td>108.000000</td>\n      <td>0.991723</td>\n      <td>3.090000</td>\n      <td>0.410000</td>\n      <td>9.500000</td>\n      <td>5.000000</td>\n    </tr>\n    <tr>\n      <th>50%</th>\n      <td>6.800000</td>\n      <td>0.260000</td>\n      <td>0.320000</td>\n      <td>5.200000</td>\n      <td>0.043000</td>\n      <td>34.000000</td>\n      <td>134.000000</td>\n      <td>0.993740</td>\n      <td>3.180000</td>\n      <td>0.470000</td>\n      <td>10.400000</td>\n      <td>6.000000</td>\n    </tr>\n    <tr>\n      <th>75%</th>\n      <td>7.300000</td>\n      <td>0.320000</td>\n      <td>0.390000</td>\n      <td>9.900000</td>\n      <td>0.050000</td>\n      <td>46.000000</td>\n      <td>167.000000</td>\n      <td>0.996100</td>\n      <td>3.280000</td>\n      <td>0.550000</td>\n      <td>11.400000</td>\n      <td>6.000000</td>\n    </tr>\n    <tr>\n      <th>max</th>\n      <td>14.200000</td>\n      <td>1.100000</td>\n      <td>1.660000</td>\n      <td>65.800000</td>\n      <td>0.346000</td>\n      <td>289.000000</td>\n      <td>440.000000</td>\n      <td>1.038980</td>\n      <td>3.820000</td>\n      <td>1.080000</td>\n      <td>14.200000</td>\n      <td>9.000000</td>\n    </tr>\n  </tbody>\n</table>\n</div>"
     },
     "metadata": {},
     "execution_count": 51
    }
   ],
   "source": [
    "white_wine.describe()\n"
   ]
  },
  {
   "cell_type": "code",
   "execution_count": 52,
   "metadata": {},
   "outputs": [
    {
     "output_type": "execute_result",
     "data": {
      "text/plain": "                      fixed acidity  volatile acidity  citric acid  \\\nfixed acidity              1.000000         -0.022697     0.289181   \nvolatile acidity          -0.022697          1.000000    -0.149472   \ncitric acid                0.289181         -0.149472     1.000000   \nresidual sugar             0.089021          0.064286     0.094212   \nchlorides                  0.023086          0.070512     0.114364   \nfree sulfur dioxide       -0.049396         -0.097012     0.094077   \ntotal sulfur dioxide       0.091070          0.089261     0.121131   \ndensity                    0.265331          0.027114     0.149503   \npH                        -0.425858         -0.031915    -0.163748   \nsulphates                 -0.017143         -0.035728     0.062331   \nalcohol                   -0.120881          0.067718    -0.075729   \nquality                   -0.113663         -0.194723    -0.009209   \n\n                      residual sugar  chlorides  free sulfur dioxide  \\\nfixed acidity               0.089021   0.023086            -0.049396   \nvolatile acidity            0.064286   0.070512            -0.097012   \ncitric acid                 0.094212   0.114364             0.094077   \nresidual sugar              1.000000   0.088685             0.299098   \nchlorides                   0.088685   1.000000             0.101392   \nfree sulfur dioxide         0.299098   0.101392             1.000000   \ntotal sulfur dioxide        0.401439   0.198910             0.615501   \ndensity                     0.838966   0.257211             0.294210   \npH                         -0.194133  -0.090439            -0.000618   \nsulphates                  -0.026664   0.016763             0.059217   \nalcohol                    -0.450631  -0.360189            -0.250104   \nquality                    -0.097577  -0.209934             0.008158   \n\n                      total sulfur dioxide   density        pH  sulphates  \\\nfixed acidity                     0.091070  0.265331 -0.425858  -0.017143   \nvolatile acidity                  0.089261  0.027114 -0.031915  -0.035728   \ncitric acid                       0.121131  0.149503 -0.163748   0.062331   \nresidual sugar                    0.401439  0.838966 -0.194133  -0.026664   \nchlorides                         0.198910  0.257211 -0.090439   0.016763   \nfree sulfur dioxide               0.615501  0.294210 -0.000618   0.059217   \ntotal sulfur dioxide              1.000000  0.529881  0.002321   0.134562   \ndensity                           0.529881  1.000000 -0.093591   0.074493   \npH                                0.002321 -0.093591  1.000000   0.155951   \nsulphates                         0.134562  0.074493  0.155951   1.000000   \nalcohol                          -0.448892 -0.780138  0.121432  -0.017433   \nquality                          -0.174737 -0.307123  0.099427   0.053678   \n\n                       alcohol   quality  \nfixed acidity        -0.120881 -0.113663  \nvolatile acidity      0.067718 -0.194723  \ncitric acid          -0.075729 -0.009209  \nresidual sugar       -0.450631 -0.097577  \nchlorides            -0.360189 -0.209934  \nfree sulfur dioxide  -0.250104  0.008158  \ntotal sulfur dioxide -0.448892 -0.174737  \ndensity              -0.780138 -0.307123  \npH                    0.121432  0.099427  \nsulphates            -0.017433  0.053678  \nalcohol               1.000000  0.435575  \nquality               0.435575  1.000000  ",
      "text/html": "<div>\n<style scoped>\n    .dataframe tbody tr th:only-of-type {\n        vertical-align: middle;\n    }\n\n    .dataframe tbody tr th {\n        vertical-align: top;\n    }\n\n    .dataframe thead th {\n        text-align: right;\n    }\n</style>\n<table border=\"1\" class=\"dataframe\">\n  <thead>\n    <tr style=\"text-align: right;\">\n      <th></th>\n      <th>fixed acidity</th>\n      <th>volatile acidity</th>\n      <th>citric acid</th>\n      <th>residual sugar</th>\n      <th>chlorides</th>\n      <th>free sulfur dioxide</th>\n      <th>total sulfur dioxide</th>\n      <th>density</th>\n      <th>pH</th>\n      <th>sulphates</th>\n      <th>alcohol</th>\n      <th>quality</th>\n    </tr>\n  </thead>\n  <tbody>\n    <tr>\n      <th>fixed acidity</th>\n      <td>1.000000</td>\n      <td>-0.022697</td>\n      <td>0.289181</td>\n      <td>0.089021</td>\n      <td>0.023086</td>\n      <td>-0.049396</td>\n      <td>0.091070</td>\n      <td>0.265331</td>\n      <td>-0.425858</td>\n      <td>-0.017143</td>\n      <td>-0.120881</td>\n      <td>-0.113663</td>\n    </tr>\n    <tr>\n      <th>volatile acidity</th>\n      <td>-0.022697</td>\n      <td>1.000000</td>\n      <td>-0.149472</td>\n      <td>0.064286</td>\n      <td>0.070512</td>\n      <td>-0.097012</td>\n      <td>0.089261</td>\n      <td>0.027114</td>\n      <td>-0.031915</td>\n      <td>-0.035728</td>\n      <td>0.067718</td>\n      <td>-0.194723</td>\n    </tr>\n    <tr>\n      <th>citric acid</th>\n      <td>0.289181</td>\n      <td>-0.149472</td>\n      <td>1.000000</td>\n      <td>0.094212</td>\n      <td>0.114364</td>\n      <td>0.094077</td>\n      <td>0.121131</td>\n      <td>0.149503</td>\n      <td>-0.163748</td>\n      <td>0.062331</td>\n      <td>-0.075729</td>\n      <td>-0.009209</td>\n    </tr>\n    <tr>\n      <th>residual sugar</th>\n      <td>0.089021</td>\n      <td>0.064286</td>\n      <td>0.094212</td>\n      <td>1.000000</td>\n      <td>0.088685</td>\n      <td>0.299098</td>\n      <td>0.401439</td>\n      <td>0.838966</td>\n      <td>-0.194133</td>\n      <td>-0.026664</td>\n      <td>-0.450631</td>\n      <td>-0.097577</td>\n    </tr>\n    <tr>\n      <th>chlorides</th>\n      <td>0.023086</td>\n      <td>0.070512</td>\n      <td>0.114364</td>\n      <td>0.088685</td>\n      <td>1.000000</td>\n      <td>0.101392</td>\n      <td>0.198910</td>\n      <td>0.257211</td>\n      <td>-0.090439</td>\n      <td>0.016763</td>\n      <td>-0.360189</td>\n      <td>-0.209934</td>\n    </tr>\n    <tr>\n      <th>free sulfur dioxide</th>\n      <td>-0.049396</td>\n      <td>-0.097012</td>\n      <td>0.094077</td>\n      <td>0.299098</td>\n      <td>0.101392</td>\n      <td>1.000000</td>\n      <td>0.615501</td>\n      <td>0.294210</td>\n      <td>-0.000618</td>\n      <td>0.059217</td>\n      <td>-0.250104</td>\n      <td>0.008158</td>\n    </tr>\n    <tr>\n      <th>total sulfur dioxide</th>\n      <td>0.091070</td>\n      <td>0.089261</td>\n      <td>0.121131</td>\n      <td>0.401439</td>\n      <td>0.198910</td>\n      <td>0.615501</td>\n      <td>1.000000</td>\n      <td>0.529881</td>\n      <td>0.002321</td>\n      <td>0.134562</td>\n      <td>-0.448892</td>\n      <td>-0.174737</td>\n    </tr>\n    <tr>\n      <th>density</th>\n      <td>0.265331</td>\n      <td>0.027114</td>\n      <td>0.149503</td>\n      <td>0.838966</td>\n      <td>0.257211</td>\n      <td>0.294210</td>\n      <td>0.529881</td>\n      <td>1.000000</td>\n      <td>-0.093591</td>\n      <td>0.074493</td>\n      <td>-0.780138</td>\n      <td>-0.307123</td>\n    </tr>\n    <tr>\n      <th>pH</th>\n      <td>-0.425858</td>\n      <td>-0.031915</td>\n      <td>-0.163748</td>\n      <td>-0.194133</td>\n      <td>-0.090439</td>\n      <td>-0.000618</td>\n      <td>0.002321</td>\n      <td>-0.093591</td>\n      <td>1.000000</td>\n      <td>0.155951</td>\n      <td>0.121432</td>\n      <td>0.099427</td>\n    </tr>\n    <tr>\n      <th>sulphates</th>\n      <td>-0.017143</td>\n      <td>-0.035728</td>\n      <td>0.062331</td>\n      <td>-0.026664</td>\n      <td>0.016763</td>\n      <td>0.059217</td>\n      <td>0.134562</td>\n      <td>0.074493</td>\n      <td>0.155951</td>\n      <td>1.000000</td>\n      <td>-0.017433</td>\n      <td>0.053678</td>\n    </tr>\n    <tr>\n      <th>alcohol</th>\n      <td>-0.120881</td>\n      <td>0.067718</td>\n      <td>-0.075729</td>\n      <td>-0.450631</td>\n      <td>-0.360189</td>\n      <td>-0.250104</td>\n      <td>-0.448892</td>\n      <td>-0.780138</td>\n      <td>0.121432</td>\n      <td>-0.017433</td>\n      <td>1.000000</td>\n      <td>0.435575</td>\n    </tr>\n    <tr>\n      <th>quality</th>\n      <td>-0.113663</td>\n      <td>-0.194723</td>\n      <td>-0.009209</td>\n      <td>-0.097577</td>\n      <td>-0.209934</td>\n      <td>0.008158</td>\n      <td>-0.174737</td>\n      <td>-0.307123</td>\n      <td>0.099427</td>\n      <td>0.053678</td>\n      <td>0.435575</td>\n      <td>1.000000</td>\n    </tr>\n  </tbody>\n</table>\n</div>"
     },
     "metadata": {},
     "execution_count": 52
    }
   ],
   "source": [
    "white_wine.corr()\n"
   ]
  },
  {
   "cell_type": "markdown",
   "metadata": {},
   "source": [
    "### Setting up some printing variables"
   ]
  },
  {
   "cell_type": "code",
   "execution_count": 53,
   "metadata": {},
   "outputs": [],
   "source": [
    "plot.rcParams.update({\"font.size\": 8, \"figure.figsize\": (10, 8)}) # increase font and image size in plot\n",
    "\n",
    "sns.set(font_scale=1.1) # increase font in seaborn\n",
    "\n",
    "# colour = \"tab20\"\n",
    "# colour = \"tab20c\"\n",
    "# colour = \"Pastel2\"\n",
    "# colour = \"Paired\" # <- print\n",
    "colour = \"Spectral\"\n",
    "# colour =\"nipy_spectral_r\" # <- Print/plot\n"
   ]
  },
  {
   "cell_type": "markdown",
   "metadata": {},
   "source": [
    "### Print Histogram"
   ]
  },
  {
   "cell_type": "code",
   "execution_count": 54,
   "metadata": {},
   "outputs": [],
   "source": [
    "img = white_wine.hist(bins=50)\n",
    "\n",
    "plot.show()\n"
   ]
  },
  {
   "cell_type": "markdown",
   "metadata": {},
   "source": [
    "### Print Heatmap"
   ]
  },
  {
   "cell_type": "code",
   "execution_count": 55,
   "metadata": {},
   "outputs": [],
   "source": [
    "sns.heatmap(white_wine.corr(), annot=True, cmap=colour, linewidths=0.5)\n",
    "\n",
    "plot.show()\n"
   ]
  },
  {
   "cell_type": "markdown",
   "metadata": {},
   "source": [
    "### Method to save images"
   ]
  },
  {
   "cell_type": "code",
   "execution_count": 56,
   "metadata": {},
   "outputs": [],
   "source": [
    "def saveImage(dataFramePlot, imageName: str, path='.\\\\Exports\\\\', extension=\".png\"):\n",
    "    if not os.path.isfile(f\"{path}{imageName}{extension}\"):\n",
    "        fig = dataFramePlot.get_figure()\n",
    "        fig.savefig(f\"{path}{imageName}{extension}\")\n"
   ]
  },
  {
   "cell_type": "markdown",
   "metadata": {},
   "source": [
    "### Printing and saving boxplots"
   ]
  },
  {
   "cell_type": "code",
   "execution_count": 57,
   "metadata": {},
   "outputs": [],
   "source": [
    "def exportBoxPlot(dataToExplore):\n",
    "    imgPlot = white_wine[dataExploration].plot(kind=\"box\", figsize=(5,10), grid=True)\n",
    "    saveImage(imgPlot, f\"boxPlot_{dataToExplore}\")\n"
   ]
  },
  {
   "cell_type": "code",
   "execution_count": 58,
   "metadata": {},
   "outputs": [],
   "source": [
    "dataExploration = \"alcohol\"\n",
    "exportBoxPlot(dataExploration)\n"
   ]
  },
  {
   "cell_type": "code",
   "execution_count": 59,
   "metadata": {},
   "outputs": [],
   "source": [
    "dataExploration = \"volatile acidity\"\n",
    "exportBoxPlot(dataExploration)\n"
   ]
  },
  {
   "cell_type": "code",
   "execution_count": 60,
   "metadata": {},
   "outputs": [],
   "source": [
    "dataExploration = \"citric acid\"\n",
    "exportBoxPlot(dataExploration)\n"
   ]
  },
  {
   "cell_type": "code",
   "execution_count": 61,
   "metadata": {},
   "outputs": [],
   "source": [
    "dataExploration = \"chlorides\"\n",
    "exportBoxPlot(dataExploration)\n"
   ]
  },
  {
   "cell_type": "code",
   "execution_count": 62,
   "metadata": {},
   "outputs": [],
   "source": [
    "dataExploration = \"residual sugar\"\n",
    "exportBoxPlot(dataExploration)\n"
   ]
  },
  {
   "cell_type": "code",
   "execution_count": 63,
   "metadata": {},
   "outputs": [],
   "source": [
    "dataExploration = \"fixed acidity\"\n",
    "exportBoxPlot(dataExploration)\n"
   ]
  },
  {
   "cell_type": "code",
   "execution_count": 64,
   "metadata": {},
   "outputs": [],
   "source": [
    "dataExploration = \"free sulfur dioxide\"\n",
    "exportBoxPlot(dataExploration)\n"
   ]
  },
  {
   "cell_type": "code",
   "execution_count": 65,
   "metadata": {},
   "outputs": [],
   "source": [
    "dataExploration = \"total sulfur dioxide\"\n",
    "exportBoxPlot(dataExploration)\n"
   ]
  },
  {
   "cell_type": "code",
   "execution_count": 66,
   "metadata": {},
   "outputs": [],
   "source": [
    "dataExploration = \"density\"\n",
    "exportBoxPlot(dataExploration)\n"
   ]
  },
  {
   "cell_type": "code",
   "execution_count": 67,
   "metadata": {},
   "outputs": [],
   "source": [
    "dataExploration = \"pH\"\n",
    "exportBoxPlot(dataExploration)\n"
   ]
  },
  {
   "cell_type": "code",
   "execution_count": 68,
   "metadata": {},
   "outputs": [],
   "source": [
    "dataExploration = \"sulphates\"\n",
    "exportBoxPlot(dataExploration)\n"
   ]
  },
  {
   "cell_type": "code",
   "execution_count": 69,
   "metadata": {},
   "outputs": [],
   "source": [
    "dataExploration = \"quality\"\n",
    "exportBoxPlot(dataExploration)\n"
   ]
  },
  {
   "cell_type": "markdown",
   "metadata": {},
   "source": [
    "### Correlations about the entire dataset excluding Quality (value to predict)"
   ]
  },
  {
   "cell_type": "code",
   "execution_count": 70,
   "metadata": {},
   "outputs": [
    {
     "output_type": "execute_result",
     "data": {
      "text/plain": "fixed acidity          -0.113663\nvolatile acidity       -0.194723\ncitric acid            -0.009209\nresidual sugar         -0.097577\nchlorides              -0.209934\nfree sulfur dioxide     0.008158\ntotal sulfur dioxide   -0.174737\ndensity                -0.307123\npH                      0.099427\nsulphates               0.053678\nalcohol                 0.435575\nName: quality, dtype: float64"
     },
     "metadata": {},
     "execution_count": 70
    }
   ],
   "source": [
    "# analyze correlations excluding qulity (to predict value)\n",
    "toPredict = \"quality\"\n",
    "\n",
    "correlations = white_wine.corr()[toPredict].drop(toPredict)\n",
    "\n",
    "correlations"
   ]
  },
  {
   "cell_type": "markdown",
   "metadata": {},
   "source": [
    "### Function to keep in mind only relevant prediction"
   ]
  },
  {
   "cell_type": "code",
   "execution_count": 71,
   "metadata": {},
   "outputs": [],
   "source": [
    "# def get_features(correlation_threshold):\n",
    "#     abs_corrs = correlations.abs()\n",
    "#     high_correlations = abs_corrs[abs_corrs > correlation_threshold].index.values.tolist()\n",
    "#     return high_correlations\n"
   ]
  },
  {
   "cell_type": "code",
   "execution_count": 72,
   "metadata": {},
   "outputs": [],
   "source": [
    "# # taking features with correlation more than 0.05 as input x and quality as target variable y \n",
    "# features = get_features(0.05) \n",
    "# print(features) \n",
    "# relevantFeautresDF = white_wine[features] \n",
    "# qualitySeries = white_wine[toPredict]\n"
   ]
  },
  {
   "cell_type": "code",
   "execution_count": 73,
   "metadata": {},
   "outputs": [],
   "source": [
    "# relevantFeautresDF.plot(kind=\"scatter\", figsize=(5,10), grid=True)\n"
   ]
  },
  {
   "cell_type": "code",
   "execution_count": 74,
   "metadata": {},
   "outputs": [
    {
     "output_type": "execute_result",
     "data": {
      "text/plain": "count    4898.000000\nmean        5.877909\nstd         0.885639\nmin         3.000000\n25%         5.000000\n50%         6.000000\n75%         6.000000\nmax         9.000000\nName: quality, dtype: float64"
     },
     "metadata": {},
     "execution_count": 74
    }
   ],
   "source": [
    "white_wine[toPredict].describe()\n"
   ]
  },
  {
   "cell_type": "markdown",
   "metadata": {},
   "source": [
    "### Reduce the prediction size\n",
    "very good = 1 -> 6:1,7:1,8:1,9:1\n",
    "not good = 0 -> 3:0,4:0,5:0"
   ]
  },
  {
   "cell_type": "code",
   "execution_count": 96,
   "metadata": {},
   "outputs": [
    {
     "output_type": "execute_result",
     "data": {
      "text/plain": "[0.0, 1.0]"
     },
     "metadata": {},
     "execution_count": 96
    }
   ],
   "source": [
    "labelEncoder = preprocessing.LabelEncoder()\n",
    "\n",
    "labelEncoder.fit(white_wine[toPredict].astype(float))\n",
    "\n",
    "list(labelEncoder.classes_)\n"
   ]
  },
  {
   "cell_type": "code",
   "execution_count": 97,
   "metadata": {},
   "outputs": [
    {
     "output_type": "execute_result",
     "data": {
      "text/plain": "   fixed acidity  volatile acidity  citric acid  residual sugar  chlorides  \\\n0            7.0              0.27         0.36            20.7      0.045   \n1            6.3              0.30         0.34             1.6      0.049   \n2            8.1              0.28         0.40             6.9      0.050   \n3            7.2              0.23         0.32             8.5      0.058   \n4            7.2              0.23         0.32             8.5      0.058   \n5            8.1              0.28         0.40             6.9      0.050   \n6            6.2              0.32         0.16             7.0      0.045   \n7            7.0              0.27         0.36            20.7      0.045   \n8            6.3              0.30         0.34             1.6      0.049   \n9            8.1              0.22         0.43             1.5      0.044   \n\n   free sulfur dioxide  total sulfur dioxide  density    pH  sulphates  \\\n0                 45.0                 170.0   1.0010  3.00       0.45   \n1                 14.0                 132.0   0.9940  3.30       0.49   \n2                 30.0                  97.0   0.9951  3.26       0.44   \n3                 47.0                 186.0   0.9956  3.19       0.40   \n4                 47.0                 186.0   0.9956  3.19       0.40   \n5                 30.0                  97.0   0.9951  3.26       0.44   \n6                 30.0                 136.0   0.9949  3.18       0.47   \n7                 45.0                 170.0   1.0010  3.00       0.45   \n8                 14.0                 132.0   0.9940  3.30       0.49   \n9                 28.0                 129.0   0.9938  3.22       0.45   \n\n   alcohol  quality  \n0      8.8        1  \n1      9.5        1  \n2     10.1        1  \n3      9.9        1  \n4      9.9        1  \n5     10.1        1  \n6      9.6        1  \n7      8.8        1  \n8      9.5        1  \n9     11.0        1  ",
      "text/html": "<div>\n<style scoped>\n    .dataframe tbody tr th:only-of-type {\n        vertical-align: middle;\n    }\n\n    .dataframe tbody tr th {\n        vertical-align: top;\n    }\n\n    .dataframe thead th {\n        text-align: right;\n    }\n</style>\n<table border=\"1\" class=\"dataframe\">\n  <thead>\n    <tr style=\"text-align: right;\">\n      <th></th>\n      <th>fixed acidity</th>\n      <th>volatile acidity</th>\n      <th>citric acid</th>\n      <th>residual sugar</th>\n      <th>chlorides</th>\n      <th>free sulfur dioxide</th>\n      <th>total sulfur dioxide</th>\n      <th>density</th>\n      <th>pH</th>\n      <th>sulphates</th>\n      <th>alcohol</th>\n      <th>quality</th>\n    </tr>\n  </thead>\n  <tbody>\n    <tr>\n      <th>0</th>\n      <td>7.0</td>\n      <td>0.27</td>\n      <td>0.36</td>\n      <td>20.7</td>\n      <td>0.045</td>\n      <td>45.0</td>\n      <td>170.0</td>\n      <td>1.0010</td>\n      <td>3.00</td>\n      <td>0.45</td>\n      <td>8.8</td>\n      <td>1</td>\n    </tr>\n    <tr>\n      <th>1</th>\n      <td>6.3</td>\n      <td>0.30</td>\n      <td>0.34</td>\n      <td>1.6</td>\n      <td>0.049</td>\n      <td>14.0</td>\n      <td>132.0</td>\n      <td>0.9940</td>\n      <td>3.30</td>\n      <td>0.49</td>\n      <td>9.5</td>\n      <td>1</td>\n    </tr>\n    <tr>\n      <th>2</th>\n      <td>8.1</td>\n      <td>0.28</td>\n      <td>0.40</td>\n      <td>6.9</td>\n      <td>0.050</td>\n      <td>30.0</td>\n      <td>97.0</td>\n      <td>0.9951</td>\n      <td>3.26</td>\n      <td>0.44</td>\n      <td>10.1</td>\n      <td>1</td>\n    </tr>\n    <tr>\n      <th>3</th>\n      <td>7.2</td>\n      <td>0.23</td>\n      <td>0.32</td>\n      <td>8.5</td>\n      <td>0.058</td>\n      <td>47.0</td>\n      <td>186.0</td>\n      <td>0.9956</td>\n      <td>3.19</td>\n      <td>0.40</td>\n      <td>9.9</td>\n      <td>1</td>\n    </tr>\n    <tr>\n      <th>4</th>\n      <td>7.2</td>\n      <td>0.23</td>\n      <td>0.32</td>\n      <td>8.5</td>\n      <td>0.058</td>\n      <td>47.0</td>\n      <td>186.0</td>\n      <td>0.9956</td>\n      <td>3.19</td>\n      <td>0.40</td>\n      <td>9.9</td>\n      <td>1</td>\n    </tr>\n    <tr>\n      <th>5</th>\n      <td>8.1</td>\n      <td>0.28</td>\n      <td>0.40</td>\n      <td>6.9</td>\n      <td>0.050</td>\n      <td>30.0</td>\n      <td>97.0</td>\n      <td>0.9951</td>\n      <td>3.26</td>\n      <td>0.44</td>\n      <td>10.1</td>\n      <td>1</td>\n    </tr>\n    <tr>\n      <th>6</th>\n      <td>6.2</td>\n      <td>0.32</td>\n      <td>0.16</td>\n      <td>7.0</td>\n      <td>0.045</td>\n      <td>30.0</td>\n      <td>136.0</td>\n      <td>0.9949</td>\n      <td>3.18</td>\n      <td>0.47</td>\n      <td>9.6</td>\n      <td>1</td>\n    </tr>\n    <tr>\n      <th>7</th>\n      <td>7.0</td>\n      <td>0.27</td>\n      <td>0.36</td>\n      <td>20.7</td>\n      <td>0.045</td>\n      <td>45.0</td>\n      <td>170.0</td>\n      <td>1.0010</td>\n      <td>3.00</td>\n      <td>0.45</td>\n      <td>8.8</td>\n      <td>1</td>\n    </tr>\n    <tr>\n      <th>8</th>\n      <td>6.3</td>\n      <td>0.30</td>\n      <td>0.34</td>\n      <td>1.6</td>\n      <td>0.049</td>\n      <td>14.0</td>\n      <td>132.0</td>\n      <td>0.9940</td>\n      <td>3.30</td>\n      <td>0.49</td>\n      <td>9.5</td>\n      <td>1</td>\n    </tr>\n    <tr>\n      <th>9</th>\n      <td>8.1</td>\n      <td>0.22</td>\n      <td>0.43</td>\n      <td>1.5</td>\n      <td>0.044</td>\n      <td>28.0</td>\n      <td>129.0</td>\n      <td>0.9938</td>\n      <td>3.22</td>\n      <td>0.45</td>\n      <td>11.0</td>\n      <td>1</td>\n    </tr>\n  </tbody>\n</table>\n</div>"
     },
     "metadata": {},
     "execution_count": 97
    }
   ],
   "source": [
    "white_wine[toPredict].replace(to_replace={6:1,7:1,8:1,9:1, 3:0,4:0,5:0}, inplace=True)\n",
    "\n",
    "white_wine.head(10)\n"
   ]
  },
  {
   "cell_type": "markdown",
   "metadata": {},
   "source": [
    "### Split dataset in predictors and to predict (quality) series"
   ]
  },
  {
   "cell_type": "code",
   "execution_count": 98,
   "metadata": {},
   "outputs": [
    {
     "output_type": "execute_result",
     "data": {
      "text/plain": "<matplotlib.axes._subplots.AxesSubplot at 0x2795a62cac8>"
     },
     "metadata": {},
     "execution_count": 98
    }
   ],
   "source": [
    "# Predictors\n",
    "X = white_wine.drop([toPredict], axis=1)\n",
    "\n",
    "# Value to predict\n",
    "Y = white_wine[toPredict].astype(int)\n",
    "\n",
    "white_wine.plot()\n"
   ]
  },
  {
   "cell_type": "code",
   "execution_count": 99,
   "metadata": {},
   "outputs": [
    {
     "output_type": "stream",
     "name": "stdout",
     "text": "<class 'pandas.core.frame.DataFrame'>\nRangeIndex: 4898 entries, 0 to 4897\nData columns (total 11 columns):\n #   Column                Non-Null Count  Dtype  \n---  ------                --------------  -----  \n 0   fixed acidity         4898 non-null   float64\n 1   volatile acidity      4898 non-null   float64\n 2   citric acid           4898 non-null   float64\n 3   residual sugar        4898 non-null   float64\n 4   chlorides             4898 non-null   float64\n 5   free sulfur dioxide   4898 non-null   float64\n 6   total sulfur dioxide  4898 non-null   float64\n 7   density               4898 non-null   float64\n 8   pH                    4898 non-null   float64\n 9   sulphates             4898 non-null   float64\n 10  alcohol               4898 non-null   float64\ndtypes: float64(11)\nmemory usage: 421.0 KB\n"
    }
   ],
   "source": [
    "X.info()\n"
   ]
  },
  {
   "cell_type": "code",
   "execution_count": 100,
   "metadata": {},
   "outputs": [
    {
     "output_type": "execute_result",
     "data": {
      "text/plain": "   fixed acidity  volatile acidity  citric acid  residual sugar  chlorides  \\\n0            7.0              0.27         0.36            20.7      0.045   \n1            6.3              0.30         0.34             1.6      0.049   \n2            8.1              0.28         0.40             6.9      0.050   \n3            7.2              0.23         0.32             8.5      0.058   \n4            7.2              0.23         0.32             8.5      0.058   \n\n   free sulfur dioxide  total sulfur dioxide  density    pH  sulphates  \\\n0                 45.0                 170.0   1.0010  3.00       0.45   \n1                 14.0                 132.0   0.9940  3.30       0.49   \n2                 30.0                  97.0   0.9951  3.26       0.44   \n3                 47.0                 186.0   0.9956  3.19       0.40   \n4                 47.0                 186.0   0.9956  3.19       0.40   \n\n   alcohol  \n0      8.8  \n1      9.5  \n2     10.1  \n3      9.9  \n4      9.9  ",
      "text/html": "<div>\n<style scoped>\n    .dataframe tbody tr th:only-of-type {\n        vertical-align: middle;\n    }\n\n    .dataframe tbody tr th {\n        vertical-align: top;\n    }\n\n    .dataframe thead th {\n        text-align: right;\n    }\n</style>\n<table border=\"1\" class=\"dataframe\">\n  <thead>\n    <tr style=\"text-align: right;\">\n      <th></th>\n      <th>fixed acidity</th>\n      <th>volatile acidity</th>\n      <th>citric acid</th>\n      <th>residual sugar</th>\n      <th>chlorides</th>\n      <th>free sulfur dioxide</th>\n      <th>total sulfur dioxide</th>\n      <th>density</th>\n      <th>pH</th>\n      <th>sulphates</th>\n      <th>alcohol</th>\n    </tr>\n  </thead>\n  <tbody>\n    <tr>\n      <th>0</th>\n      <td>7.0</td>\n      <td>0.27</td>\n      <td>0.36</td>\n      <td>20.7</td>\n      <td>0.045</td>\n      <td>45.0</td>\n      <td>170.0</td>\n      <td>1.0010</td>\n      <td>3.00</td>\n      <td>0.45</td>\n      <td>8.8</td>\n    </tr>\n    <tr>\n      <th>1</th>\n      <td>6.3</td>\n      <td>0.30</td>\n      <td>0.34</td>\n      <td>1.6</td>\n      <td>0.049</td>\n      <td>14.0</td>\n      <td>132.0</td>\n      <td>0.9940</td>\n      <td>3.30</td>\n      <td>0.49</td>\n      <td>9.5</td>\n    </tr>\n    <tr>\n      <th>2</th>\n      <td>8.1</td>\n      <td>0.28</td>\n      <td>0.40</td>\n      <td>6.9</td>\n      <td>0.050</td>\n      <td>30.0</td>\n      <td>97.0</td>\n      <td>0.9951</td>\n      <td>3.26</td>\n      <td>0.44</td>\n      <td>10.1</td>\n    </tr>\n    <tr>\n      <th>3</th>\n      <td>7.2</td>\n      <td>0.23</td>\n      <td>0.32</td>\n      <td>8.5</td>\n      <td>0.058</td>\n      <td>47.0</td>\n      <td>186.0</td>\n      <td>0.9956</td>\n      <td>3.19</td>\n      <td>0.40</td>\n      <td>9.9</td>\n    </tr>\n    <tr>\n      <th>4</th>\n      <td>7.2</td>\n      <td>0.23</td>\n      <td>0.32</td>\n      <td>8.5</td>\n      <td>0.058</td>\n      <td>47.0</td>\n      <td>186.0</td>\n      <td>0.9956</td>\n      <td>3.19</td>\n      <td>0.40</td>\n      <td>9.9</td>\n    </tr>\n  </tbody>\n</table>\n</div>"
     },
     "metadata": {},
     "execution_count": 100
    }
   ],
   "source": [
    "X.head()\n"
   ]
  },
  {
   "cell_type": "code",
   "execution_count": 101,
   "metadata": {},
   "outputs": [
    {
     "output_type": "execute_result",
     "data": {
      "text/plain": "4898"
     },
     "metadata": {},
     "execution_count": 101
    }
   ],
   "source": [
    "Y.count()\n"
   ]
  },
  {
   "cell_type": "code",
   "execution_count": 102,
   "metadata": {},
   "outputs": [
    {
     "output_type": "execute_result",
     "data": {
      "text/plain": "0    1\n1    1\n2    1\n3    1\n4    1\nName: quality, dtype: int32"
     },
     "metadata": {},
     "execution_count": 102
    }
   ],
   "source": [
    "Y.head()\n"
   ]
  },
  {
   "cell_type": "markdown",
   "metadata": {},
   "source": [
    "### Split dataset in train (75%) and test (25%)"
   ]
  },
  {
   "cell_type": "code",
   "execution_count": 103,
   "metadata": {},
   "outputs": [],
   "source": [
    "x_train, x_test, y_train, y_test = train_test_split(X, Y, test_size=0.25, random_state=5)\n"
   ]
  },
  {
   "cell_type": "code",
   "execution_count": 104,
   "metadata": {},
   "outputs": [
    {
     "output_type": "stream",
     "name": "stdout",
     "text": "X train (3673, 11)\nY train (3673,)\n\nX test (1225, 11)\nY test (1225, 11)\n"
    }
   ],
   "source": [
    "print(f\"X train {x_train.shape}\\nY train {y_train.shape}\\n\")\n",
    "\n",
    "print(f\"X test {x_test.shape}\\nY test {x_test.shape}\")\n"
   ]
  },
  {
   "cell_type": "code",
   "execution_count": 105,
   "metadata": {},
   "outputs": [],
   "source": [
    "def print_metrics(y_test, y_pred):\n",
    "    print('1. Accuracy: {}'.format(round(accuracy_score(y_test, y_pred), 2)))\n",
    "    print('2. Precision: {}'.format(round(precision_score(y_test, y_pred), 2)))\n",
    "    print('3. Recall: {}'.format(round(recall_score(y_test, y_pred), 2)))\n",
    "    print('4. F1 score: {}'.format(round(f1_score(y_test, y_pred), 2)))\n",
    "    print('5. ROC AUC: {}'.format(round(roc_auc_score(y_test, y_pred), 2)))\n",
    "    print('\\n++ Confusion Matrix ++\\n{}'.format(pd.crosstab(y_test, y_pred, rownames=['Actual'], colnames=['Predicted'])))\n"
   ]
  },
  {
   "cell_type": "code",
   "execution_count": 106,
   "metadata": {},
   "outputs": [],
   "source": [
    "# Data normalization\n",
    "scaler = MinMaxScaler()\n",
    "\n",
    "# Train set\n",
    "x_train_scaled = scaler.fit_transform(x_train)\n",
    "\n",
    "# Test set\n",
    "x_test_scaled = scaler.transform(x_test)"
   ]
  },
  {
   "cell_type": "markdown",
   "metadata": {},
   "source": [
    "### Support Vector Machine (SVC) model and metics"
   ]
  },
  {
   "cell_type": "code",
   "execution_count": 107,
   "metadata": {},
   "outputs": [],
   "source": [
    "# Trainig SVC\n",
    "model = SVC().fit(x_train_scaled, y_train)\n",
    "\n",
    "# SVC prediction\n",
    "y_pred_svc = model.predict(x_test_scaled)"
   ]
  },
  {
   "cell_type": "code",
   "execution_count": 108,
   "metadata": {},
   "outputs": [
    {
     "output_type": "stream",
     "name": "stdout",
     "text": "1. Accuracy: 0.77\n2. Precision: 0.8\n3. Recall: 0.88\n4. F1 score: 0.84\n5. ROC AUC: 0.72\n\n++ Confusion Matrix ++\nPredicted    0    1\nActual             \n0          224  180\n1          100  721\n"
    }
   ],
   "source": [
    "# SVC metrics'\n",
    "print_metrics(y_test, y_pred_svc)"
   ]
  },
  {
   "cell_type": "code",
   "execution_count": 109,
   "metadata": {},
   "outputs": [],
   "source": [
    "sns.heatmap(white_wine.corr(), annot=True, cmap=colour, linewidths=0.5)\n",
    "plot.show()"
   ]
  },
  {
   "cell_type": "code",
   "execution_count": 110,
   "metadata": {},
   "outputs": [
    {
     "output_type": "stream",
     "name": "stdout",
     "text": "White wine shape's -> Not Good -> (1640, 12)\nWhite wine shape's -> Very Good -> (3258, 12)\n"
    }
   ],
   "source": [
    "# 1640 samples\n",
    "print(f\"White wine shape's -> Not Good -> {white_wine.loc[white_wine[toPredict] == 0].shape}\")\n",
    "\n",
    "# 3258 samples\n",
    "print(f\"White wine shape's -> Very Good -> {white_wine.loc[white_wine[toPredict] == 1].shape}\")\n"
   ]
  },
  {
   "cell_type": "markdown",
   "metadata": {},
   "source": [
    "### Random Forest model and metics"
   ]
  },
  {
   "cell_type": "code",
   "execution_count": 111,
   "metadata": {},
   "outputs": [],
   "source": [
    "# Training Random Forest\n",
    "model = RandomForestClassifier().fit(x_train_scaled, y_train)\n",
    "\n",
    "# Random Forest prediction\n",
    "y_pred_rf = model.predict(x_test_scaled)\n"
   ]
  },
  {
   "cell_type": "code",
   "execution_count": 112,
   "metadata": {},
   "outputs": [
    {
     "output_type": "stream",
     "name": "stdout",
     "text": "1. Accuracy: 0.83\n2. Precision: 0.85\n3. Recall: 0.9\n4. F1 score: 0.87\n5. ROC AUC: 0.79\n\n++ Confusion Matrix ++\nPredicted    0    1\nActual             \n0          278  126\n1           86  735\n"
    }
   ],
   "source": [
    "# Random Forest metrics'\n",
    "\n",
    "print_metrics(y_test, y_pred_rf)"
   ]
  },
  {
   "cell_type": "markdown",
   "metadata": {},
   "source": [
    "### K-nearest neighbors (KNN) model and metics"
   ]
  },
  {
   "cell_type": "code",
   "execution_count": 113,
   "metadata": {},
   "outputs": [],
   "source": [
    "# Training KNN\n",
    "model = KNeighborsClassifier(n_neighbors=200).fit(x_train_scaled, y_train)\n",
    "\n",
    "# KNN prediction\n",
    "y_pred_knn = model.predict(x_test_scaled)"
   ]
  },
  {
   "cell_type": "code",
   "execution_count": 114,
   "metadata": {},
   "outputs": [
    {
     "output_type": "stream",
     "name": "stdout",
     "text": "1. Accuracy: 0.83\n2. Precision: 0.85\n3. Recall: 0.9\n4. F1 score: 0.87\n5. ROC AUC: 0.79\n\n++ Confusion Matrix ++\nPredicted    0    1\nActual             \n0          278  126\n1           86  735\n"
    }
   ],
   "source": [
    "# KNN metrics'\n",
    "\n",
    "print_metrics(y_test, y_pred_rf)"
   ]
  },
  {
   "cell_type": "markdown",
   "metadata": {},
   "source": [
    "### Final plots and models comparsion"
   ]
  },
  {
   "cell_type": "code",
   "execution_count": 116,
   "metadata": {},
   "outputs": [],
   "source": [
    "svc_fpr, svc_tpr, svc_th = roc_curve(y_test, y_pred_svc)\n",
    "rf_fpr, rf_tpr, rf_th = roc_curve(y_test, y_pred_rf)\n",
    "knn_fpr, knn_tpr, knn_th = roc_curve(y_test, y_pred_knn)\n",
    "\n",
    "# plot the roc curve for the model\n",
    "plot.figure(figsize=(10,6))\n",
    "plot.plot(knn_fpr, knn_tpr, marker='.', label='KNN')\n",
    "plot.plot(rf_fpr, rf_tpr, marker='.', linestyle='--', label='RF')\n",
    "plot.plot(svc_fpr, svc_tpr, marker='.', linestyle=':', label='SVC')\n",
    "\n",
    "# axis labels\n",
    "plot.xlabel('False Positive Rate')\n",
    "plot.ylabel('True Positive Rate')\n",
    "\n",
    "# show the legend\n",
    "plot.legend()\n",
    "\n",
    "# show the plot\n",
    "plot.show()\n"
   ]
  },
  {
   "cell_type": "code",
   "execution_count": 117,
   "metadata": {},
   "outputs": [
    {
     "output_type": "stream",
     "name": "stdout",
     "text": "test\n"
    }
   ],
   "source": [
    "print(\"test\")"
   ]
  }
 ],
 "metadata": {
  "kernelspec": {
   "display_name": "Python 3",
   "language": "python",
   "name": "python3"
  },
  "language_info": {
   "codemirror_mode": {
    "name": "ipython",
    "version": 3
   },
   "file_extension": ".py",
   "mimetype": "text/x-python",
   "name": "python",
   "nbconvert_exporter": "python",
   "pygments_lexer": "ipython3",
   "version": "3.7.7-final"
  }
 },
 "nbformat": 4,
 "nbformat_minor": 4
}