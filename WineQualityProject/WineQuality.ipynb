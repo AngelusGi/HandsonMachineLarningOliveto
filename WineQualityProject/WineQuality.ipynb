{
 "cells": [
  {
   "cell_type": "markdown",
   "metadata": {},
   "source": [
    "De"
   ]
  },
  {
   "cell_type": "code",
   "execution_count": 65,
   "metadata": {},
   "outputs": [],
   "source": [
    "import pandas as pd"
   ]
  },
  {
   "cell_type": "code",
   "execution_count": 66,
   "metadata": {},
   "outputs": [],
   "source": [
    "white_wine = pd.read_csv(\".\\DataSet\\winequality-white.csv\", sep=\";\",quotechar='\"')\n",
    "\n",
    "red_wine = pd.read_csv(\".\\DataSet\\winequality-red.csv\", sep=\";\",quotechar='\"')\n"
   ]
  },
  {
   "cell_type": "code",
   "execution_count": 67,
   "metadata": {},
   "outputs": [
    {
     "output_type": "stream",
     "name": "stdout",
     "text": "<class 'pandas.core.frame.DataFrame'>\nRangeIndex: 4898 entries, 0 to 4897\nData columns (total 12 columns):\n #   Column                Non-Null Count  Dtype  \n---  ------                --------------  -----  \n 0   fixed acidity         4898 non-null   float64\n 1   volatile acidity      4898 non-null   float64\n 2   citric acid           4898 non-null   float64\n 3   residual sugar        4898 non-null   float64\n 4   chlorides             4898 non-null   float64\n 5   free sulfur dioxide   4898 non-null   float64\n 6   total sulfur dioxide  4898 non-null   float64\n 7   density               4898 non-null   float64\n 8   pH                    4898 non-null   float64\n 9   sulphates             4898 non-null   float64\n 10  alcohol               4898 non-null   float64\n 11  quality               4898 non-null   int64  \ndtypes: float64(11), int64(1)\nmemory usage: 459.3 KB\n"
    }
   ],
   "source": [
    "white_wine.info()\n"
   ]
  },
  {
   "cell_type": "code",
   "execution_count": 68,
   "metadata": {},
   "outputs": [
    {
     "output_type": "execute_result",
     "data": {
      "text/plain": "       fixed acidity  volatile acidity  citric acid  residual sugar  \\\ncount    4898.000000       4898.000000  4898.000000     4898.000000   \nmean        6.854788          0.278241     0.334192        6.391415   \nstd         0.843868          0.100795     0.121020        5.072058   \nmin         3.800000          0.080000     0.000000        0.600000   \n25%         6.300000          0.210000     0.270000        1.700000   \n50%         6.800000          0.260000     0.320000        5.200000   \n75%         7.300000          0.320000     0.390000        9.900000   \nmax        14.200000          1.100000     1.660000       65.800000   \n\n         chlorides  free sulfur dioxide  total sulfur dioxide      density  \\\ncount  4898.000000          4898.000000           4898.000000  4898.000000   \nmean      0.045772            35.308085            138.360657     0.994027   \nstd       0.021848            17.007137             42.498065     0.002991   \nmin       0.009000             2.000000              9.000000     0.987110   \n25%       0.036000            23.000000            108.000000     0.991723   \n50%       0.043000            34.000000            134.000000     0.993740   \n75%       0.050000            46.000000            167.000000     0.996100   \nmax       0.346000           289.000000            440.000000     1.038980   \n\n                pH    sulphates      alcohol      quality  \ncount  4898.000000  4898.000000  4898.000000  4898.000000  \nmean      3.188267     0.489847    10.514267     5.877909  \nstd       0.151001     0.114126     1.230621     0.885639  \nmin       2.720000     0.220000     8.000000     3.000000  \n25%       3.090000     0.410000     9.500000     5.000000  \n50%       3.180000     0.470000    10.400000     6.000000  \n75%       3.280000     0.550000    11.400000     6.000000  \nmax       3.820000     1.080000    14.200000     9.000000  ",
      "text/html": "<div>\n<style scoped>\n    .dataframe tbody tr th:only-of-type {\n        vertical-align: middle;\n    }\n\n    .dataframe tbody tr th {\n        vertical-align: top;\n    }\n\n    .dataframe thead th {\n        text-align: right;\n    }\n</style>\n<table border=\"1\" class=\"dataframe\">\n  <thead>\n    <tr style=\"text-align: right;\">\n      <th></th>\n      <th>fixed acidity</th>\n      <th>volatile acidity</th>\n      <th>citric acid</th>\n      <th>residual sugar</th>\n      <th>chlorides</th>\n      <th>free sulfur dioxide</th>\n      <th>total sulfur dioxide</th>\n      <th>density</th>\n      <th>pH</th>\n      <th>sulphates</th>\n      <th>alcohol</th>\n      <th>quality</th>\n    </tr>\n  </thead>\n  <tbody>\n    <tr>\n      <th>count</th>\n      <td>4898.000000</td>\n      <td>4898.000000</td>\n      <td>4898.000000</td>\n      <td>4898.000000</td>\n      <td>4898.000000</td>\n      <td>4898.000000</td>\n      <td>4898.000000</td>\n      <td>4898.000000</td>\n      <td>4898.000000</td>\n      <td>4898.000000</td>\n      <td>4898.000000</td>\n      <td>4898.000000</td>\n    </tr>\n    <tr>\n      <th>mean</th>\n      <td>6.854788</td>\n      <td>0.278241</td>\n      <td>0.334192</td>\n      <td>6.391415</td>\n      <td>0.045772</td>\n      <td>35.308085</td>\n      <td>138.360657</td>\n      <td>0.994027</td>\n      <td>3.188267</td>\n      <td>0.489847</td>\n      <td>10.514267</td>\n      <td>5.877909</td>\n    </tr>\n    <tr>\n      <th>std</th>\n      <td>0.843868</td>\n      <td>0.100795</td>\n      <td>0.121020</td>\n      <td>5.072058</td>\n      <td>0.021848</td>\n      <td>17.007137</td>\n      <td>42.498065</td>\n      <td>0.002991</td>\n      <td>0.151001</td>\n      <td>0.114126</td>\n      <td>1.230621</td>\n      <td>0.885639</td>\n    </tr>\n    <tr>\n      <th>min</th>\n      <td>3.800000</td>\n      <td>0.080000</td>\n      <td>0.000000</td>\n      <td>0.600000</td>\n      <td>0.009000</td>\n      <td>2.000000</td>\n      <td>9.000000</td>\n      <td>0.987110</td>\n      <td>2.720000</td>\n      <td>0.220000</td>\n      <td>8.000000</td>\n      <td>3.000000</td>\n    </tr>\n    <tr>\n      <th>25%</th>\n      <td>6.300000</td>\n      <td>0.210000</td>\n      <td>0.270000</td>\n      <td>1.700000</td>\n      <td>0.036000</td>\n      <td>23.000000</td>\n      <td>108.000000</td>\n      <td>0.991723</td>\n      <td>3.090000</td>\n      <td>0.410000</td>\n      <td>9.500000</td>\n      <td>5.000000</td>\n    </tr>\n    <tr>\n      <th>50%</th>\n      <td>6.800000</td>\n      <td>0.260000</td>\n      <td>0.320000</td>\n      <td>5.200000</td>\n      <td>0.043000</td>\n      <td>34.000000</td>\n      <td>134.000000</td>\n      <td>0.993740</td>\n      <td>3.180000</td>\n      <td>0.470000</td>\n      <td>10.400000</td>\n      <td>6.000000</td>\n    </tr>\n    <tr>\n      <th>75%</th>\n      <td>7.300000</td>\n      <td>0.320000</td>\n      <td>0.390000</td>\n      <td>9.900000</td>\n      <td>0.050000</td>\n      <td>46.000000</td>\n      <td>167.000000</td>\n      <td>0.996100</td>\n      <td>3.280000</td>\n      <td>0.550000</td>\n      <td>11.400000</td>\n      <td>6.000000</td>\n    </tr>\n    <tr>\n      <th>max</th>\n      <td>14.200000</td>\n      <td>1.100000</td>\n      <td>1.660000</td>\n      <td>65.800000</td>\n      <td>0.346000</td>\n      <td>289.000000</td>\n      <td>440.000000</td>\n      <td>1.038980</td>\n      <td>3.820000</td>\n      <td>1.080000</td>\n      <td>14.200000</td>\n      <td>9.000000</td>\n    </tr>\n  </tbody>\n</table>\n</div>"
     },
     "metadata": {},
     "execution_count": 68
    }
   ],
   "source": [
    "white_wine.describe()\n"
   ]
  },
  {
   "cell_type": "code",
   "execution_count": 69,
   "metadata": {},
   "outputs": [
    {
     "output_type": "execute_result",
     "data": {
      "text/plain": "                      fixed acidity  volatile acidity  citric acid  \\\nfixed acidity              1.000000         -0.022697     0.289181   \nvolatile acidity          -0.022697          1.000000    -0.149472   \ncitric acid                0.289181         -0.149472     1.000000   \nresidual sugar             0.089021          0.064286     0.094212   \nchlorides                  0.023086          0.070512     0.114364   \nfree sulfur dioxide       -0.049396         -0.097012     0.094077   \ntotal sulfur dioxide       0.091070          0.089261     0.121131   \ndensity                    0.265331          0.027114     0.149503   \npH                        -0.425858         -0.031915    -0.163748   \nsulphates                 -0.017143         -0.035728     0.062331   \nalcohol                   -0.120881          0.067718    -0.075729   \nquality                   -0.113663         -0.194723    -0.009209   \n\n                      residual sugar  chlorides  free sulfur dioxide  \\\nfixed acidity               0.089021   0.023086            -0.049396   \nvolatile acidity            0.064286   0.070512            -0.097012   \ncitric acid                 0.094212   0.114364             0.094077   \nresidual sugar              1.000000   0.088685             0.299098   \nchlorides                   0.088685   1.000000             0.101392   \nfree sulfur dioxide         0.299098   0.101392             1.000000   \ntotal sulfur dioxide        0.401439   0.198910             0.615501   \ndensity                     0.838966   0.257211             0.294210   \npH                         -0.194133  -0.090439            -0.000618   \nsulphates                  -0.026664   0.016763             0.059217   \nalcohol                    -0.450631  -0.360189            -0.250104   \nquality                    -0.097577  -0.209934             0.008158   \n\n                      total sulfur dioxide   density        pH  sulphates  \\\nfixed acidity                     0.091070  0.265331 -0.425858  -0.017143   \nvolatile acidity                  0.089261  0.027114 -0.031915  -0.035728   \ncitric acid                       0.121131  0.149503 -0.163748   0.062331   \nresidual sugar                    0.401439  0.838966 -0.194133  -0.026664   \nchlorides                         0.198910  0.257211 -0.090439   0.016763   \nfree sulfur dioxide               0.615501  0.294210 -0.000618   0.059217   \ntotal sulfur dioxide              1.000000  0.529881  0.002321   0.134562   \ndensity                           0.529881  1.000000 -0.093591   0.074493   \npH                                0.002321 -0.093591  1.000000   0.155951   \nsulphates                         0.134562  0.074493  0.155951   1.000000   \nalcohol                          -0.448892 -0.780138  0.121432  -0.017433   \nquality                          -0.174737 -0.307123  0.099427   0.053678   \n\n                       alcohol   quality  \nfixed acidity        -0.120881 -0.113663  \nvolatile acidity      0.067718 -0.194723  \ncitric acid          -0.075729 -0.009209  \nresidual sugar       -0.450631 -0.097577  \nchlorides            -0.360189 -0.209934  \nfree sulfur dioxide  -0.250104  0.008158  \ntotal sulfur dioxide -0.448892 -0.174737  \ndensity              -0.780138 -0.307123  \npH                    0.121432  0.099427  \nsulphates            -0.017433  0.053678  \nalcohol               1.000000  0.435575  \nquality               0.435575  1.000000  ",
      "text/html": "<div>\n<style scoped>\n    .dataframe tbody tr th:only-of-type {\n        vertical-align: middle;\n    }\n\n    .dataframe tbody tr th {\n        vertical-align: top;\n    }\n\n    .dataframe thead th {\n        text-align: right;\n    }\n</style>\n<table border=\"1\" class=\"dataframe\">\n  <thead>\n    <tr style=\"text-align: right;\">\n      <th></th>\n      <th>fixed acidity</th>\n      <th>volatile acidity</th>\n      <th>citric acid</th>\n      <th>residual sugar</th>\n      <th>chlorides</th>\n      <th>free sulfur dioxide</th>\n      <th>total sulfur dioxide</th>\n      <th>density</th>\n      <th>pH</th>\n      <th>sulphates</th>\n      <th>alcohol</th>\n      <th>quality</th>\n    </tr>\n  </thead>\n  <tbody>\n    <tr>\n      <th>fixed acidity</th>\n      <td>1.000000</td>\n      <td>-0.022697</td>\n      <td>0.289181</td>\n      <td>0.089021</td>\n      <td>0.023086</td>\n      <td>-0.049396</td>\n      <td>0.091070</td>\n      <td>0.265331</td>\n      <td>-0.425858</td>\n      <td>-0.017143</td>\n      <td>-0.120881</td>\n      <td>-0.113663</td>\n    </tr>\n    <tr>\n      <th>volatile acidity</th>\n      <td>-0.022697</td>\n      <td>1.000000</td>\n      <td>-0.149472</td>\n      <td>0.064286</td>\n      <td>0.070512</td>\n      <td>-0.097012</td>\n      <td>0.089261</td>\n      <td>0.027114</td>\n      <td>-0.031915</td>\n      <td>-0.035728</td>\n      <td>0.067718</td>\n      <td>-0.194723</td>\n    </tr>\n    <tr>\n      <th>citric acid</th>\n      <td>0.289181</td>\n      <td>-0.149472</td>\n      <td>1.000000</td>\n      <td>0.094212</td>\n      <td>0.114364</td>\n      <td>0.094077</td>\n      <td>0.121131</td>\n      <td>0.149503</td>\n      <td>-0.163748</td>\n      <td>0.062331</td>\n      <td>-0.075729</td>\n      <td>-0.009209</td>\n    </tr>\n    <tr>\n      <th>residual sugar</th>\n      <td>0.089021</td>\n      <td>0.064286</td>\n      <td>0.094212</td>\n      <td>1.000000</td>\n      <td>0.088685</td>\n      <td>0.299098</td>\n      <td>0.401439</td>\n      <td>0.838966</td>\n      <td>-0.194133</td>\n      <td>-0.026664</td>\n      <td>-0.450631</td>\n      <td>-0.097577</td>\n    </tr>\n    <tr>\n      <th>chlorides</th>\n      <td>0.023086</td>\n      <td>0.070512</td>\n      <td>0.114364</td>\n      <td>0.088685</td>\n      <td>1.000000</td>\n      <td>0.101392</td>\n      <td>0.198910</td>\n      <td>0.257211</td>\n      <td>-0.090439</td>\n      <td>0.016763</td>\n      <td>-0.360189</td>\n      <td>-0.209934</td>\n    </tr>\n    <tr>\n      <th>free sulfur dioxide</th>\n      <td>-0.049396</td>\n      <td>-0.097012</td>\n      <td>0.094077</td>\n      <td>0.299098</td>\n      <td>0.101392</td>\n      <td>1.000000</td>\n      <td>0.615501</td>\n      <td>0.294210</td>\n      <td>-0.000618</td>\n      <td>0.059217</td>\n      <td>-0.250104</td>\n      <td>0.008158</td>\n    </tr>\n    <tr>\n      <th>total sulfur dioxide</th>\n      <td>0.091070</td>\n      <td>0.089261</td>\n      <td>0.121131</td>\n      <td>0.401439</td>\n      <td>0.198910</td>\n      <td>0.615501</td>\n      <td>1.000000</td>\n      <td>0.529881</td>\n      <td>0.002321</td>\n      <td>0.134562</td>\n      <td>-0.448892</td>\n      <td>-0.174737</td>\n    </tr>\n    <tr>\n      <th>density</th>\n      <td>0.265331</td>\n      <td>0.027114</td>\n      <td>0.149503</td>\n      <td>0.838966</td>\n      <td>0.257211</td>\n      <td>0.294210</td>\n      <td>0.529881</td>\n      <td>1.000000</td>\n      <td>-0.093591</td>\n      <td>0.074493</td>\n      <td>-0.780138</td>\n      <td>-0.307123</td>\n    </tr>\n    <tr>\n      <th>pH</th>\n      <td>-0.425858</td>\n      <td>-0.031915</td>\n      <td>-0.163748</td>\n      <td>-0.194133</td>\n      <td>-0.090439</td>\n      <td>-0.000618</td>\n      <td>0.002321</td>\n      <td>-0.093591</td>\n      <td>1.000000</td>\n      <td>0.155951</td>\n      <td>0.121432</td>\n      <td>0.099427</td>\n    </tr>\n    <tr>\n      <th>sulphates</th>\n      <td>-0.017143</td>\n      <td>-0.035728</td>\n      <td>0.062331</td>\n      <td>-0.026664</td>\n      <td>0.016763</td>\n      <td>0.059217</td>\n      <td>0.134562</td>\n      <td>0.074493</td>\n      <td>0.155951</td>\n      <td>1.000000</td>\n      <td>-0.017433</td>\n      <td>0.053678</td>\n    </tr>\n    <tr>\n      <th>alcohol</th>\n      <td>-0.120881</td>\n      <td>0.067718</td>\n      <td>-0.075729</td>\n      <td>-0.450631</td>\n      <td>-0.360189</td>\n      <td>-0.250104</td>\n      <td>-0.448892</td>\n      <td>-0.780138</td>\n      <td>0.121432</td>\n      <td>-0.017433</td>\n      <td>1.000000</td>\n      <td>0.435575</td>\n    </tr>\n    <tr>\n      <th>quality</th>\n      <td>-0.113663</td>\n      <td>-0.194723</td>\n      <td>-0.009209</td>\n      <td>-0.097577</td>\n      <td>-0.209934</td>\n      <td>0.008158</td>\n      <td>-0.174737</td>\n      <td>-0.307123</td>\n      <td>0.099427</td>\n      <td>0.053678</td>\n      <td>0.435575</td>\n      <td>1.000000</td>\n    </tr>\n  </tbody>\n</table>\n</div>"
     },
     "metadata": {},
     "execution_count": 69
    }
   ],
   "source": [
    "white_wine.corr()"
   ]
  },
  {
   "cell_type": "code",
   "execution_count": 70,
   "metadata": {},
   "outputs": [
    {
     "output_type": "stream",
     "name": "stdout",
     "text": "Using matplotlib backend: Qt5Agg\n"
    }
   ],
   "source": [
    "%matplotlib\n",
    "import matplotlib.pyplot as plot"
   ]
  },
  {
   "cell_type": "code",
   "execution_count": 71,
   "metadata": {},
   "outputs": [],
   "source": [
    "plot.rcParams.update({'font.size': 8, 'figure.figsize': (10, 8)}) # set font and plot size to be larger\n"
   ]
  },
  {
   "cell_type": "code",
   "execution_count": 72,
   "metadata": {},
   "outputs": [],
   "source": [
    "img = white_wine.hist(bins=50)\n",
    "\n",
    "plot.show()"
   ]
  },
  {
   "cell_type": "code",
   "execution_count": 73,
   "metadata": {},
   "outputs": [],
   "source": [
    "import seaborn as sns"
   ]
  },
  {
   "cell_type": "code",
   "execution_count": 74,
   "metadata": {},
   "outputs": [],
   "source": [
    "sns.set(font_scale=1.1) # incrementa il font\n",
    "# colour = \"tab20\"\n",
    "# colour = \"tab20c\"\n",
    "# colour = \"Pastel2\"\n",
    "# colour = \"Paired\" # <- print\n",
    "colour = \"Spectral\"\n",
    "# colour =\"nipy_spectral_r\" # <- Print e plot"
   ]
  },
  {
   "cell_type": "code",
   "execution_count": 75,
   "metadata": {},
   "outputs": [],
   "source": [
    "sns.heatmap(white_wine.corr(), annot=True, cmap=colour, linewidths=0.5)\n",
    "plot.show()"
   ]
  },
  {
   "cell_type": "code",
   "execution_count": 76,
   "metadata": {},
   "outputs": [],
   "source": [
    "import os\n",
    "\n",
    "def saveImage(dataFramePlot, imageName: str, path='.\\\\Exports\\\\', extension=\".png\"):\n",
    "    if not os.path.isfile(f\"{path}{imageName}{extension}\"):\n",
    "        fig = dataFramePlot.get_figure()\n",
    "        fig.savefig(f\"{path}{imageName}{extension}\")"
   ]
  },
  {
   "cell_type": "code",
   "execution_count": 77,
   "metadata": {},
   "outputs": [],
   "source": [
    "val = \"alcohol\"\n",
    "imgPlot = white_wine[val].plot(kind=\"box\", figsize=(5,10), grid=True)\n",
    "saveImage(imgPlot, f\"boxPlot_{val}\")\n"
   ]
  },
  {
   "cell_type": "code",
   "execution_count": 78,
   "metadata": {},
   "outputs": [],
   "source": [
    "val = \"volatile acidity\"\n",
    "imgPlot = white_wine[val].plot(kind=\"box\", figsize=(5,10), grid=True)\n",
    "saveImage(imgPlot, f\"boxPlot_{val}\")\n"
   ]
  },
  {
   "cell_type": "code",
   "execution_count": 79,
   "metadata": {},
   "outputs": [],
   "source": [
    "val = \"citric acid\"\n",
    "imgPlot = white_wine[val].plot(kind=\"box\", figsize=(5,10), grid=True)\n",
    "saveImage(imgPlot, f\"boxPlot_{val}\")\n"
   ]
  },
  {
   "cell_type": "code",
   "execution_count": 80,
   "metadata": {},
   "outputs": [],
   "source": [
    "val = \"chlorides\"\n",
    "imgPlot = white_wine[val].plot(kind=\"box\", figsize=(5,10), grid=True)\n",
    "saveImage(imgPlot, f\"boxPlot_{val}\")\n"
   ]
  },
  {
   "cell_type": "code",
   "execution_count": 81,
   "metadata": {},
   "outputs": [],
   "source": [
    "val = \"residual sugar\"\n",
    "imgPlot = white_wine[val].plot(kind=\"box\", figsize=(5,10), grid=True)\n",
    "saveImage(imgPlot, f\"boxPlot_{val}\")\n"
   ]
  },
  {
   "cell_type": "code",
   "execution_count": 82,
   "metadata": {},
   "outputs": [],
   "source": [
    "val = \"fixed acidity\"\n",
    "imgPlot = white_wine[val].plot(kind=\"box\", figsize=(5,10), grid=True)\n",
    "saveImage(imgPlot, f\"boxPlot_{val}\")\n"
   ]
  },
  {
   "cell_type": "code",
   "execution_count": 83,
   "metadata": {},
   "outputs": [],
   "source": [
    "val = \"free sulfur dioxide\"\n",
    "imgPlot = white_wine[val].plot(kind=\"box\", figsize=(5,10), grid=True)\n",
    "saveImage(imgPlot, f\"boxPlot_{val}\")\n"
   ]
  },
  {
   "cell_type": "code",
   "execution_count": 84,
   "metadata": {},
   "outputs": [],
   "source": [
    "val = \"total sulfur dioxide\"\n",
    "imgPlot = white_wine[val].plot(kind=\"box\", figsize=(5,10), grid=True)\n",
    "saveImage(imgPlot, f\"boxPlot_{val}\")\n"
   ]
  },
  {
   "cell_type": "code",
   "execution_count": 85,
   "metadata": {},
   "outputs": [],
   "source": [
    "val = \"density\"\n",
    "imgPlot = white_wine[val].plot(kind=\"box\", figsize=(5,10), grid=True)\n",
    "saveImage(imgPlot, f\"boxPlot_{val}\")\n"
   ]
  },
  {
   "cell_type": "code",
   "execution_count": 86,
   "metadata": {},
   "outputs": [],
   "source": [
    "val = \"pH\"\n",
    "imgPlot = white_wine[val].plot(kind=\"box\", figsize=(5,10), grid=True)\n",
    "saveImage(imgPlot, f\"boxPlot_{val}\")\n"
   ]
  },
  {
   "cell_type": "code",
   "execution_count": 87,
   "metadata": {},
   "outputs": [],
   "source": [
    "val = \"sulphates\"\n",
    "imgPlot = white_wine[val].plot(kind=\"box\", figsize=(5,10), grid=True)\n",
    "saveImage(imgPlot, f\"boxPlot_{val}\")\n"
   ]
  },
  {
   "cell_type": "code",
   "execution_count": 88,
   "metadata": {},
   "outputs": [],
   "source": [
    "val = \"quality\"\n",
    "imgPlot = white_wine[val].plot(kind=\"box\", figsize=(5,10), grid=True)\n",
    "saveImage(imgPlot, f\"boxPlot_{val}\")\n"
   ]
  },
  {
   "cell_type": "code",
   "execution_count": 89,
   "metadata": {},
   "outputs": [],
   "source": [
    "# # prendo le correlazioni escludendo la qualità (valore da predire)\n",
    "# correlations = white_wine.corr()['quality'].drop('quality')\n",
    "# print(correlations)"
   ]
  },
  {
   "cell_type": "code",
   "execution_count": 90,
   "metadata": {},
   "outputs": [],
   "source": [
    "# def get_features(correlation_threshold):\n",
    "#     abs_corrs = correlations.abs()\n",
    "#     high_correlations = abs_corrs[abs_corrs > correlation_threshold].index.values.tolist()\n",
    "#     return high_correlations"
   ]
  },
  {
   "cell_type": "code",
   "execution_count": 91,
   "metadata": {},
   "outputs": [],
   "source": [
    "# # taking features with correlation more than 0.05 as input x and quality as target variable y \n",
    "# features = get_features(0.05) \n",
    "# print(features) \n",
    "# relevantFeautresDF = white_wine[features] \n",
    "# qualitySeries = white_wine['quality']"
   ]
  },
  {
   "cell_type": "code",
   "execution_count": 92,
   "metadata": {},
   "outputs": [],
   "source": [
    "# relevantFeautresDF.plot(kind=\"scatter\", figsize=(5,10), grid=True)"
   ]
  },
  {
   "cell_type": "code",
   "execution_count": 93,
   "metadata": {},
   "outputs": [],
   "source": [
    "from sklearn import preprocessing \n",
    "from sklearn.preprocessing import LabelEncoder"
   ]
  },
  {
   "cell_type": "code",
   "execution_count": 94,
   "metadata": {},
   "outputs": [
    {
     "output_type": "execute_result",
     "data": {
      "text/plain": "count    4898.000000\nmean        5.877909\nstd         0.885639\nmin         3.000000\n25%         5.000000\n50%         6.000000\n75%         6.000000\nmax         9.000000\nName: quality, dtype: float64"
     },
     "metadata": {},
     "execution_count": 94
    }
   ],
   "source": [
    "columnName = \"quality\"\n",
    "\n",
    "white_wine[columnName].describe()"
   ]
  },
  {
   "cell_type": "code",
   "execution_count": 95,
   "metadata": {},
   "outputs": [
    {
     "output_type": "execute_result",
     "data": {
      "text/plain": "[3.0, 4.0, 5.0, 6.0, 7.0, 8.0, 9.0]"
     },
     "metadata": {},
     "execution_count": 95
    }
   ],
   "source": [
    "labelEncoder = preprocessing.LabelEncoder()\n",
    "labelEncoder.fit(white_wine[columnName].astype(float))\n",
    "list(labelEncoder.classes_)\n"
   ]
  },
  {
   "cell_type": "code",
   "execution_count": 96,
   "metadata": {},
   "outputs": [
    {
     "output_type": "execute_result",
     "data": {
      "text/plain": "   fixed acidity  volatile acidity  citric acid  residual sugar  chlorides  \\\n0            7.0              0.27         0.36            20.7      0.045   \n1            6.3              0.30         0.34             1.6      0.049   \n2            8.1              0.28         0.40             6.9      0.050   \n3            7.2              0.23         0.32             8.5      0.058   \n4            7.2              0.23         0.32             8.5      0.058   \n5            8.1              0.28         0.40             6.9      0.050   \n6            6.2              0.32         0.16             7.0      0.045   \n7            7.0              0.27         0.36            20.7      0.045   \n8            6.3              0.30         0.34             1.6      0.049   \n9            8.1              0.22         0.43             1.5      0.044   \n\n   free sulfur dioxide  total sulfur dioxide  density    pH  sulphates  \\\n0                 45.0                 170.0   1.0010  3.00       0.45   \n1                 14.0                 132.0   0.9940  3.30       0.49   \n2                 30.0                  97.0   0.9951  3.26       0.44   \n3                 47.0                 186.0   0.9956  3.19       0.40   \n4                 47.0                 186.0   0.9956  3.19       0.40   \n5                 30.0                  97.0   0.9951  3.26       0.44   \n6                 30.0                 136.0   0.9949  3.18       0.47   \n7                 45.0                 170.0   1.0010  3.00       0.45   \n8                 14.0                 132.0   0.9940  3.30       0.49   \n9                 28.0                 129.0   0.9938  3.22       0.45   \n\n   alcohol  quality  \n0      8.8        1  \n1      9.5        1  \n2     10.1        1  \n3      9.9        1  \n4      9.9        1  \n5     10.1        1  \n6      9.6        1  \n7      8.8        1  \n8      9.5        1  \n9     11.0        1  ",
      "text/html": "<div>\n<style scoped>\n    .dataframe tbody tr th:only-of-type {\n        vertical-align: middle;\n    }\n\n    .dataframe tbody tr th {\n        vertical-align: top;\n    }\n\n    .dataframe thead th {\n        text-align: right;\n    }\n</style>\n<table border=\"1\" class=\"dataframe\">\n  <thead>\n    <tr style=\"text-align: right;\">\n      <th></th>\n      <th>fixed acidity</th>\n      <th>volatile acidity</th>\n      <th>citric acid</th>\n      <th>residual sugar</th>\n      <th>chlorides</th>\n      <th>free sulfur dioxide</th>\n      <th>total sulfur dioxide</th>\n      <th>density</th>\n      <th>pH</th>\n      <th>sulphates</th>\n      <th>alcohol</th>\n      <th>quality</th>\n    </tr>\n  </thead>\n  <tbody>\n    <tr>\n      <th>0</th>\n      <td>7.0</td>\n      <td>0.27</td>\n      <td>0.36</td>\n      <td>20.7</td>\n      <td>0.045</td>\n      <td>45.0</td>\n      <td>170.0</td>\n      <td>1.0010</td>\n      <td>3.00</td>\n      <td>0.45</td>\n      <td>8.8</td>\n      <td>1</td>\n    </tr>\n    <tr>\n      <th>1</th>\n      <td>6.3</td>\n      <td>0.30</td>\n      <td>0.34</td>\n      <td>1.6</td>\n      <td>0.049</td>\n      <td>14.0</td>\n      <td>132.0</td>\n      <td>0.9940</td>\n      <td>3.30</td>\n      <td>0.49</td>\n      <td>9.5</td>\n      <td>1</td>\n    </tr>\n    <tr>\n      <th>2</th>\n      <td>8.1</td>\n      <td>0.28</td>\n      <td>0.40</td>\n      <td>6.9</td>\n      <td>0.050</td>\n      <td>30.0</td>\n      <td>97.0</td>\n      <td>0.9951</td>\n      <td>3.26</td>\n      <td>0.44</td>\n      <td>10.1</td>\n      <td>1</td>\n    </tr>\n    <tr>\n      <th>3</th>\n      <td>7.2</td>\n      <td>0.23</td>\n      <td>0.32</td>\n      <td>8.5</td>\n      <td>0.058</td>\n      <td>47.0</td>\n      <td>186.0</td>\n      <td>0.9956</td>\n      <td>3.19</td>\n      <td>0.40</td>\n      <td>9.9</td>\n      <td>1</td>\n    </tr>\n    <tr>\n      <th>4</th>\n      <td>7.2</td>\n      <td>0.23</td>\n      <td>0.32</td>\n      <td>8.5</td>\n      <td>0.058</td>\n      <td>47.0</td>\n      <td>186.0</td>\n      <td>0.9956</td>\n      <td>3.19</td>\n      <td>0.40</td>\n      <td>9.9</td>\n      <td>1</td>\n    </tr>\n    <tr>\n      <th>5</th>\n      <td>8.1</td>\n      <td>0.28</td>\n      <td>0.40</td>\n      <td>6.9</td>\n      <td>0.050</td>\n      <td>30.0</td>\n      <td>97.0</td>\n      <td>0.9951</td>\n      <td>3.26</td>\n      <td>0.44</td>\n      <td>10.1</td>\n      <td>1</td>\n    </tr>\n    <tr>\n      <th>6</th>\n      <td>6.2</td>\n      <td>0.32</td>\n      <td>0.16</td>\n      <td>7.0</td>\n      <td>0.045</td>\n      <td>30.0</td>\n      <td>136.0</td>\n      <td>0.9949</td>\n      <td>3.18</td>\n      <td>0.47</td>\n      <td>9.6</td>\n      <td>1</td>\n    </tr>\n    <tr>\n      <th>7</th>\n      <td>7.0</td>\n      <td>0.27</td>\n      <td>0.36</td>\n      <td>20.7</td>\n      <td>0.045</td>\n      <td>45.0</td>\n      <td>170.0</td>\n      <td>1.0010</td>\n      <td>3.00</td>\n      <td>0.45</td>\n      <td>8.8</td>\n      <td>1</td>\n    </tr>\n    <tr>\n      <th>8</th>\n      <td>6.3</td>\n      <td>0.30</td>\n      <td>0.34</td>\n      <td>1.6</td>\n      <td>0.049</td>\n      <td>14.0</td>\n      <td>132.0</td>\n      <td>0.9940</td>\n      <td>3.30</td>\n      <td>0.49</td>\n      <td>9.5</td>\n      <td>1</td>\n    </tr>\n    <tr>\n      <th>9</th>\n      <td>8.1</td>\n      <td>0.22</td>\n      <td>0.43</td>\n      <td>1.5</td>\n      <td>0.044</td>\n      <td>28.0</td>\n      <td>129.0</td>\n      <td>0.9938</td>\n      <td>3.22</td>\n      <td>0.45</td>\n      <td>11.0</td>\n      <td>1</td>\n    </tr>\n  </tbody>\n</table>\n</div>"
     },
     "metadata": {},
     "execution_count": 96
    }
   ],
   "source": [
    "columnName = \"quality\"\n",
    "# very good = 1 -> 6:1,7:1,8:1,9:1\n",
    "# not good = 0 -> 3:0,4:0,5:0\n",
    "white_wine[columnName].replace(to_replace={6:1,7:1,8:1,9:1, 3:0,4:0,5:0}, inplace=True)\n",
    "white_wine.head(10)\n"
   ]
  },
  {
   "cell_type": "code",
   "execution_count": 97,
   "metadata": {},
   "outputs": [
    {
     "output_type": "execute_result",
     "data": {
      "text/plain": "<matplotlib.axes._subplots.AxesSubplot at 0x22a52713b48>"
     },
     "metadata": {},
     "execution_count": 97
    }
   ],
   "source": [
    "X = white_wine.drop([columnName], axis=1) # predittori\n",
    "Y = white_wine[columnName].astype(int) # da predire\n",
    "white_wine.plot()\n"
   ]
  },
  {
   "cell_type": "code",
   "execution_count": 98,
   "metadata": {},
   "outputs": [
    {
     "output_type": "stream",
     "name": "stdout",
     "text": "<class 'pandas.core.frame.DataFrame'>\nRangeIndex: 4898 entries, 0 to 4897\nData columns (total 11 columns):\n #   Column                Non-Null Count  Dtype  \n---  ------                --------------  -----  \n 0   fixed acidity         4898 non-null   float64\n 1   volatile acidity      4898 non-null   float64\n 2   citric acid           4898 non-null   float64\n 3   residual sugar        4898 non-null   float64\n 4   chlorides             4898 non-null   float64\n 5   free sulfur dioxide   4898 non-null   float64\n 6   total sulfur dioxide  4898 non-null   float64\n 7   density               4898 non-null   float64\n 8   pH                    4898 non-null   float64\n 9   sulphates             4898 non-null   float64\n 10  alcohol               4898 non-null   float64\ndtypes: float64(11)\nmemory usage: 421.0 KB\n"
    }
   ],
   "source": [
    "X.info()"
   ]
  },
  {
   "cell_type": "code",
   "execution_count": 99,
   "metadata": {},
   "outputs": [
    {
     "output_type": "execute_result",
     "data": {
      "text/plain": "   fixed acidity  volatile acidity  citric acid  residual sugar  chlorides  \\\n0            7.0              0.27         0.36            20.7      0.045   \n1            6.3              0.30         0.34             1.6      0.049   \n2            8.1              0.28         0.40             6.9      0.050   \n3            7.2              0.23         0.32             8.5      0.058   \n4            7.2              0.23         0.32             8.5      0.058   \n\n   free sulfur dioxide  total sulfur dioxide  density    pH  sulphates  \\\n0                 45.0                 170.0   1.0010  3.00       0.45   \n1                 14.0                 132.0   0.9940  3.30       0.49   \n2                 30.0                  97.0   0.9951  3.26       0.44   \n3                 47.0                 186.0   0.9956  3.19       0.40   \n4                 47.0                 186.0   0.9956  3.19       0.40   \n\n   alcohol  \n0      8.8  \n1      9.5  \n2     10.1  \n3      9.9  \n4      9.9  ",
      "text/html": "<div>\n<style scoped>\n    .dataframe tbody tr th:only-of-type {\n        vertical-align: middle;\n    }\n\n    .dataframe tbody tr th {\n        vertical-align: top;\n    }\n\n    .dataframe thead th {\n        text-align: right;\n    }\n</style>\n<table border=\"1\" class=\"dataframe\">\n  <thead>\n    <tr style=\"text-align: right;\">\n      <th></th>\n      <th>fixed acidity</th>\n      <th>volatile acidity</th>\n      <th>citric acid</th>\n      <th>residual sugar</th>\n      <th>chlorides</th>\n      <th>free sulfur dioxide</th>\n      <th>total sulfur dioxide</th>\n      <th>density</th>\n      <th>pH</th>\n      <th>sulphates</th>\n      <th>alcohol</th>\n    </tr>\n  </thead>\n  <tbody>\n    <tr>\n      <th>0</th>\n      <td>7.0</td>\n      <td>0.27</td>\n      <td>0.36</td>\n      <td>20.7</td>\n      <td>0.045</td>\n      <td>45.0</td>\n      <td>170.0</td>\n      <td>1.0010</td>\n      <td>3.00</td>\n      <td>0.45</td>\n      <td>8.8</td>\n    </tr>\n    <tr>\n      <th>1</th>\n      <td>6.3</td>\n      <td>0.30</td>\n      <td>0.34</td>\n      <td>1.6</td>\n      <td>0.049</td>\n      <td>14.0</td>\n      <td>132.0</td>\n      <td>0.9940</td>\n      <td>3.30</td>\n      <td>0.49</td>\n      <td>9.5</td>\n    </tr>\n    <tr>\n      <th>2</th>\n      <td>8.1</td>\n      <td>0.28</td>\n      <td>0.40</td>\n      <td>6.9</td>\n      <td>0.050</td>\n      <td>30.0</td>\n      <td>97.0</td>\n      <td>0.9951</td>\n      <td>3.26</td>\n      <td>0.44</td>\n      <td>10.1</td>\n    </tr>\n    <tr>\n      <th>3</th>\n      <td>7.2</td>\n      <td>0.23</td>\n      <td>0.32</td>\n      <td>8.5</td>\n      <td>0.058</td>\n      <td>47.0</td>\n      <td>186.0</td>\n      <td>0.9956</td>\n      <td>3.19</td>\n      <td>0.40</td>\n      <td>9.9</td>\n    </tr>\n    <tr>\n      <th>4</th>\n      <td>7.2</td>\n      <td>0.23</td>\n      <td>0.32</td>\n      <td>8.5</td>\n      <td>0.058</td>\n      <td>47.0</td>\n      <td>186.0</td>\n      <td>0.9956</td>\n      <td>3.19</td>\n      <td>0.40</td>\n      <td>9.9</td>\n    </tr>\n  </tbody>\n</table>\n</div>"
     },
     "metadata": {},
     "execution_count": 99
    }
   ],
   "source": [
    "X.head()"
   ]
  },
  {
   "cell_type": "code",
   "execution_count": 100,
   "metadata": {},
   "outputs": [
    {
     "output_type": "execute_result",
     "data": {
      "text/plain": "4898"
     },
     "metadata": {},
     "execution_count": 100
    }
   ],
   "source": [
    "Y.count()"
   ]
  },
  {
   "cell_type": "code",
   "execution_count": 101,
   "metadata": {},
   "outputs": [
    {
     "output_type": "execute_result",
     "data": {
      "text/plain": "0    1\n1    1\n2    1\n3    1\n4    1\nName: quality, dtype: int32"
     },
     "metadata": {},
     "execution_count": 101
    }
   ],
   "source": [
    "Y.head()\n"
   ]
  },
  {
   "cell_type": "code",
   "execution_count": 102,
   "metadata": {},
   "outputs": [],
   "source": [
    "from sklearn.model_selection import train_test_split\n",
    "\n",
    "x_train, x_test, y_train, y_test = train_test_split(X, Y, test_size=0.25, random_state=5)"
   ]
  },
  {
   "cell_type": "code",
   "execution_count": 103,
   "metadata": {},
   "outputs": [
    {
     "output_type": "stream",
     "name": "stdout",
     "text": "X train (3673, 11)\nY train (3673,)\n\nX test (1225, 11)\nY test (1225, 11)\n"
    }
   ],
   "source": [
    "print(f\"X train {x_train.shape}\\nY train {y_train.shape}\\n\")\n",
    "\n",
    "print(f\"X test {x_test.shape}\\nY test {x_test.shape}\")\n"
   ]
  },
  {
   "cell_type": "code",
   "execution_count": 104,
   "metadata": {},
   "outputs": [],
   "source": [
    "from sklearn.svm import SVC\n",
    "from sklearn.ensemble import RandomForestClassifier\n",
    "from sklearn.neighbors import KNeighborsClassifier\n",
    "from sklearn.metrics import accuracy_score, precision_score, recall_score, f1_score, roc_auc_score, confusion_matrix"
   ]
  },
  {
   "cell_type": "code",
   "execution_count": 105,
   "metadata": {},
   "outputs": [],
   "source": [
    "# def print_metrics(y_test, y_pred):\n",
    "#     print('1. Accuracy: {}'.format(round(accuracy_score(y_test, y_pred))))\n",
    "#     # TODO AGGIUSTAMENTI PARAMETRI\n",
    "#     print('2. Precision: {}'.format(round(precision_score(y_test, y_pred, average=\"micro\"))))\n",
    "#     print('3. Recall: {}'.format(round(recall_score(y_test, y_pred, average=\"micro\"))))\n",
    "#     print('4. F1 score: {}'.format(round(f1_score(y_test, y_pred, average=\"micro\"))))\n",
    "#     print('5. ROC AUC: {}'.format(round(roc_auc_score(y_test, y_pred, average=\"weighted\", multi_class=\"ovr\"))))\n",
    "#     # print('\\n++ Confusion Matrix ++\\n{}'.format(pd.crosstab(y_test, y_pred, rownames=['Actual'], colnames=['Predicted'])))\n",
    "\n",
    "\n",
    "\n",
    "def print_metrics(y_test, y_pred):\n",
    "    print('1. Accuracy: {}'.format(round(accuracy_score(y_test, y_pred), 2)))\n",
    "    print('2. Precision: {}'.format(round(precision_score(y_test, y_pred), 2)))\n",
    "    print('3. Recall: {}'.format(round(recall_score(y_test, y_pred), 2)))\n",
    "    print('4. F1 score: {}'.format(round(f1_score(y_test, y_pred), 2)))\n",
    "    print('5. ROC AUC: {}'.format(round(roc_auc_score(y_test, y_pred), 2)))\n",
    "    print('\\n++ Confusion Matrix ++\\n{}'.format(pd.crosstab(y_test, y_pred, rownames=['Actual'], colnames=['Predicted'])))"
   ]
  },
  {
   "cell_type": "code",
   "execution_count": 106,
   "metadata": {},
   "outputs": [],
   "source": [
    "# Let's create a preprocessor for data normalization\n",
    "from sklearn.preprocessing import MinMaxScaler\n",
    "\n",
    "scaler = MinMaxScaler()\n",
    "\n",
    "# For first, we will process train set\n",
    "x_train_scaled = scaler.fit_transform(x_train)\n",
    "\n",
    "# Then, we will do the same for test set\n",
    "x_test_scaled = scaler.transform(x_test)"
   ]
  },
  {
   "cell_type": "code",
   "execution_count": 107,
   "metadata": {},
   "outputs": [],
   "source": [
    "# 1. Model trainig\n",
    "model = SVC().fit(x_train_scaled, y_train)\n",
    "\n",
    "# 2. Prediction\n",
    "y_pred = model.predict(x_test_scaled)"
   ]
  },
  {
   "cell_type": "code",
   "execution_count": 108,
   "metadata": {},
   "outputs": [
    {
     "output_type": "stream",
     "name": "stdout",
     "text": "1. Accuracy: 0.77\n2. Precision: 0.8\n3. Recall: 0.88\n4. F1 score: 0.84\n5. ROC AUC: 0.72\n\n++ Confusion Matrix ++\nPredicted    0    1\nActual             \n0          224  180\n1          100  721\n"
    }
   ],
   "source": [
    "# Let's print some metrics\n",
    "print_metrics(y_test, y_pred)"
   ]
  },
  {
   "cell_type": "code",
   "execution_count": 109,
   "metadata": {},
   "outputs": [],
   "source": [
    "# from sklearn.metrics import plot_confusion_matrix\n",
    "# plot_confusion_matrix(model, x_test, y_pred)\n",
    "# # plot_confusion_matrix(model, x_test, y_test)  # doctest: +SKIP\n",
    "# plt.show()  # doctest: +SKIP"
   ]
  },
  {
   "cell_type": "code",
   "execution_count": 110,
   "metadata": {},
   "outputs": [],
   "source": [
    "# from sklearn.metrics import plot_confusion_matrix\n",
    "\n",
    "# titles_options = [(\"Confusion matrix, without normalization\", None),\n",
    "#                   (\"Normalized confusion matrix\", 'true')]\n",
    "                  \n",
    "# for title, normalize in titles_options:\n",
    "#     disp = plot_confusion_matrix(model, x_test, y_test,\n",
    "#                                  display_labels=columnName,\n",
    "#                                  cmap=plot.cm.Blues,\n",
    "#                                  normalize=normalize)\n",
    "#     disp.ax_.set_title(title)\n",
    "\n",
    "#     print(title)\n",
    "#     print(disp.confusion_matrix)\n",
    "\n",
    "# plt.show()"
   ]
  },
  {
   "cell_type": "code",
   "execution_count": 112,
   "metadata": {},
   "outputs": [],
   "source": [
    "sns.heatmap(white_wine.corr(), annot=True, cmap=colour, linewidths=0.5)\n",
    "plot.show()"
   ]
  },
  {
   "cell_type": "code",
   "execution_count": 53,
   "metadata": {},
   "outputs": [
    {
     "output_type": "stream",
     "name": "stdout",
     "text": "Collecting package metadata (current_repodata.json): ...working... done\nSolving environment: ...working... failed with initial frozen solve. Retrying with flexible solve.\nCollecting package metadata (repodata.json): ...working... done\nSolving environment: ...working... failed with initial frozen solve. Retrying with flexible solve.\n\nNote: you may need to restart the kernel to use updated packages.\n\nPackagesNotFoundError: The following packages are not available from current channels:\n\n  - imblearn\n\nCurrent channels:\n\n  - https://conda.anaconda.org/conda-forge/win-64\n  - https://conda.anaconda.org/conda-forge/noarch\n  - https://repo.anaconda.com/pkgs/main/win-64\n  - https://repo.anaconda.com/pkgs/main/noarch\n  - https://repo.anaconda.com/pkgs/r/win-64\n  - https://repo.anaconda.com/pkgs/r/noarch\n  - https://repo.anaconda.com/pkgs/msys2/win-64\n  - https://repo.anaconda.com/pkgs/msys2/noarch\n\nTo search for alternate channels that may provide the conda package you're\nlooking for, navigate to\n\n    https://anaconda.org\n\nand use the search bar at the top of the page.\n\n\n"
    }
   ],
   "source": [
    "%conda install -c conda-forge imbalanced-learn\n"
   ]
  },
  {
   "cell_type": "code",
   "execution_count": 113,
   "metadata": {},
   "outputs": [],
   "source": [
    "from imblearn.under_sampling import RandomUnderSampler\n",
    "from imblearn.over_sampling import RandomOverSampler"
   ]
  },
  {
   "cell_type": "code",
   "execution_count": 115,
   "metadata": {},
   "outputs": [
    {
     "output_type": "execute_result",
     "data": {
      "text/plain": "      fixed acidity  volatile acidity  citric acid  residual sugar  chlorides  \\\n0               7.0              0.27         0.36            20.7      0.045   \n1               6.3              0.30         0.34             1.6      0.049   \n2               8.1              0.28         0.40             6.9      0.050   \n3               7.2              0.23         0.32             8.5      0.058   \n4               7.2              0.23         0.32             8.5      0.058   \n...             ...               ...          ...             ...        ...   \n4891            5.7              0.21         0.32             0.9      0.038   \n4893            6.2              0.21         0.29             1.6      0.039   \n4895            6.5              0.24         0.19             1.2      0.041   \n4896            5.5              0.29         0.30             1.1      0.022   \n4897            6.0              0.21         0.38             0.8      0.020   \n\n      free sulfur dioxide  total sulfur dioxide  density    pH  sulphates  \\\n0                    45.0                 170.0  1.00100  3.00       0.45   \n1                    14.0                 132.0  0.99400  3.30       0.49   \n2                    30.0                  97.0  0.99510  3.26       0.44   \n3                    47.0                 186.0  0.99560  3.19       0.40   \n4                    47.0                 186.0  0.99560  3.19       0.40   \n...                   ...                   ...      ...   ...        ...   \n4891                 38.0                 121.0  0.99074  3.24       0.46   \n4893                 24.0                  92.0  0.99114  3.27       0.50   \n4895                 30.0                 111.0  0.99254  2.99       0.46   \n4896                 20.0                 110.0  0.98869  3.34       0.38   \n4897                 22.0                  98.0  0.98941  3.26       0.32   \n\n      alcohol  quality  \n0         8.8        1  \n1         9.5        1  \n2        10.1        1  \n3         9.9        1  \n4         9.9        1  \n...       ...      ...  \n4891     10.6        1  \n4893     11.2        1  \n4895      9.4        1  \n4896     12.8        1  \n4897     11.8        1  \n\n[3258 rows x 12 columns]",
      "text/html": "<div>\n<style scoped>\n    .dataframe tbody tr th:only-of-type {\n        vertical-align: middle;\n    }\n\n    .dataframe tbody tr th {\n        vertical-align: top;\n    }\n\n    .dataframe thead th {\n        text-align: right;\n    }\n</style>\n<table border=\"1\" class=\"dataframe\">\n  <thead>\n    <tr style=\"text-align: right;\">\n      <th></th>\n      <th>fixed acidity</th>\n      <th>volatile acidity</th>\n      <th>citric acid</th>\n      <th>residual sugar</th>\n      <th>chlorides</th>\n      <th>free sulfur dioxide</th>\n      <th>total sulfur dioxide</th>\n      <th>density</th>\n      <th>pH</th>\n      <th>sulphates</th>\n      <th>alcohol</th>\n      <th>quality</th>\n    </tr>\n  </thead>\n  <tbody>\n    <tr>\n      <th>0</th>\n      <td>7.0</td>\n      <td>0.27</td>\n      <td>0.36</td>\n      <td>20.7</td>\n      <td>0.045</td>\n      <td>45.0</td>\n      <td>170.0</td>\n      <td>1.00100</td>\n      <td>3.00</td>\n      <td>0.45</td>\n      <td>8.8</td>\n      <td>1</td>\n    </tr>\n    <tr>\n      <th>1</th>\n      <td>6.3</td>\n      <td>0.30</td>\n      <td>0.34</td>\n      <td>1.6</td>\n      <td>0.049</td>\n      <td>14.0</td>\n      <td>132.0</td>\n      <td>0.99400</td>\n      <td>3.30</td>\n      <td>0.49</td>\n      <td>9.5</td>\n      <td>1</td>\n    </tr>\n    <tr>\n      <th>2</th>\n      <td>8.1</td>\n      <td>0.28</td>\n      <td>0.40</td>\n      <td>6.9</td>\n      <td>0.050</td>\n      <td>30.0</td>\n      <td>97.0</td>\n      <td>0.99510</td>\n      <td>3.26</td>\n      <td>0.44</td>\n      <td>10.1</td>\n      <td>1</td>\n    </tr>\n    <tr>\n      <th>3</th>\n      <td>7.2</td>\n      <td>0.23</td>\n      <td>0.32</td>\n      <td>8.5</td>\n      <td>0.058</td>\n      <td>47.0</td>\n      <td>186.0</td>\n      <td>0.99560</td>\n      <td>3.19</td>\n      <td>0.40</td>\n      <td>9.9</td>\n      <td>1</td>\n    </tr>\n    <tr>\n      <th>4</th>\n      <td>7.2</td>\n      <td>0.23</td>\n      <td>0.32</td>\n      <td>8.5</td>\n      <td>0.058</td>\n      <td>47.0</td>\n      <td>186.0</td>\n      <td>0.99560</td>\n      <td>3.19</td>\n      <td>0.40</td>\n      <td>9.9</td>\n      <td>1</td>\n    </tr>\n    <tr>\n      <th>...</th>\n      <td>...</td>\n      <td>...</td>\n      <td>...</td>\n      <td>...</td>\n      <td>...</td>\n      <td>...</td>\n      <td>...</td>\n      <td>...</td>\n      <td>...</td>\n      <td>...</td>\n      <td>...</td>\n      <td>...</td>\n    </tr>\n    <tr>\n      <th>4891</th>\n      <td>5.7</td>\n      <td>0.21</td>\n      <td>0.32</td>\n      <td>0.9</td>\n      <td>0.038</td>\n      <td>38.0</td>\n      <td>121.0</td>\n      <td>0.99074</td>\n      <td>3.24</td>\n      <td>0.46</td>\n      <td>10.6</td>\n      <td>1</td>\n    </tr>\n    <tr>\n      <th>4893</th>\n      <td>6.2</td>\n      <td>0.21</td>\n      <td>0.29</td>\n      <td>1.6</td>\n      <td>0.039</td>\n      <td>24.0</td>\n      <td>92.0</td>\n      <td>0.99114</td>\n      <td>3.27</td>\n      <td>0.50</td>\n      <td>11.2</td>\n      <td>1</td>\n    </tr>\n    <tr>\n      <th>4895</th>\n      <td>6.5</td>\n      <td>0.24</td>\n      <td>0.19</td>\n      <td>1.2</td>\n      <td>0.041</td>\n      <td>30.0</td>\n      <td>111.0</td>\n      <td>0.99254</td>\n      <td>2.99</td>\n      <td>0.46</td>\n      <td>9.4</td>\n      <td>1</td>\n    </tr>\n    <tr>\n      <th>4896</th>\n      <td>5.5</td>\n      <td>0.29</td>\n      <td>0.30</td>\n      <td>1.1</td>\n      <td>0.022</td>\n      <td>20.0</td>\n      <td>110.0</td>\n      <td>0.98869</td>\n      <td>3.34</td>\n      <td>0.38</td>\n      <td>12.8</td>\n      <td>1</td>\n    </tr>\n    <tr>\n      <th>4897</th>\n      <td>6.0</td>\n      <td>0.21</td>\n      <td>0.38</td>\n      <td>0.8</td>\n      <td>0.020</td>\n      <td>22.0</td>\n      <td>98.0</td>\n      <td>0.98941</td>\n      <td>3.26</td>\n      <td>0.32</td>\n      <td>11.8</td>\n      <td>1</td>\n    </tr>\n  </tbody>\n</table>\n<p>3258 rows × 12 columns</p>\n</div>"
     },
     "metadata": {},
     "execution_count": 115
    }
   ],
   "source": [
    "# white_wine.loc[white_wine[\"quality\"] == 0] # 1640 samples\n",
    "# white_wine.loc[white_wine[\"quality\"] == 1] # 3258 samplse\n"
   ]
  },
  {
   "cell_type": "code",
   "execution_count": 118,
   "metadata": {},
   "outputs": [
    {
     "output_type": "error",
     "ename": "AttributeError",
     "evalue": "'RandomUnderSampler' object has no attribute '_validate_data'",
     "traceback": [
      "\u001b[1;31m---------------------------------------------------------------------------\u001b[0m",
      "\u001b[1;31mAttributeError\u001b[0m                            Traceback (most recent call last)",
      "\u001b[1;32m<ipython-input-118-e4b4fd190581>\u001b[0m in \u001b[0;36m<module>\u001b[1;34m\u001b[0m\n\u001b[0;32m      1\u001b[0m \u001b[1;31m# For train set only !!!\u001b[0m\u001b[1;33m\u001b[0m\u001b[1;33m\u001b[0m\u001b[1;33m\u001b[0m\u001b[0m\n\u001b[0;32m      2\u001b[0m \u001b[0mrus\u001b[0m \u001b[1;33m=\u001b[0m \u001b[0mRandomUnderSampler\u001b[0m\u001b[1;33m(\u001b[0m\u001b[0msampling_strategy\u001b[0m\u001b[1;33m=\u001b[0m\u001b[1;34m\"majority\"\u001b[0m\u001b[1;33m)\u001b[0m\u001b[1;33m\u001b[0m\u001b[1;33m\u001b[0m\u001b[0m\n\u001b[1;32m----> 3\u001b[1;33m \u001b[0mx_rus\u001b[0m\u001b[1;33m,\u001b[0m \u001b[0my_rus\u001b[0m \u001b[1;33m=\u001b[0m \u001b[0mrus\u001b[0m\u001b[1;33m.\u001b[0m\u001b[0mfit_sample\u001b[0m\u001b[1;33m(\u001b[0m\u001b[0mx_train_scaled\u001b[0m\u001b[1;33m,\u001b[0m \u001b[0my_train\u001b[0m\u001b[1;33m)\u001b[0m\u001b[1;33m\u001b[0m\u001b[1;33m\u001b[0m\u001b[0m\n\u001b[0m",
      "\u001b[1;32m~\\anaconda3\\lib\\site-packages\\imblearn\\base.py\u001b[0m in \u001b[0;36mfit_resample\u001b[1;34m(self, X, y)\u001b[0m\n\u001b[0;32m     75\u001b[0m         \u001b[0mcheck_classification_targets\u001b[0m\u001b[1;33m(\u001b[0m\u001b[0my\u001b[0m\u001b[1;33m)\u001b[0m\u001b[1;33m\u001b[0m\u001b[1;33m\u001b[0m\u001b[0m\n\u001b[0;32m     76\u001b[0m         \u001b[0marrays_transformer\u001b[0m \u001b[1;33m=\u001b[0m \u001b[0mArraysTransformer\u001b[0m\u001b[1;33m(\u001b[0m\u001b[0mX\u001b[0m\u001b[1;33m,\u001b[0m \u001b[0my\u001b[0m\u001b[1;33m)\u001b[0m\u001b[1;33m\u001b[0m\u001b[1;33m\u001b[0m\u001b[0m\n\u001b[1;32m---> 77\u001b[1;33m         \u001b[0mX\u001b[0m\u001b[1;33m,\u001b[0m \u001b[0my\u001b[0m\u001b[1;33m,\u001b[0m \u001b[0mbinarize_y\u001b[0m \u001b[1;33m=\u001b[0m \u001b[0mself\u001b[0m\u001b[1;33m.\u001b[0m\u001b[0m_check_X_y\u001b[0m\u001b[1;33m(\u001b[0m\u001b[0mX\u001b[0m\u001b[1;33m,\u001b[0m \u001b[0my\u001b[0m\u001b[1;33m)\u001b[0m\u001b[1;33m\u001b[0m\u001b[1;33m\u001b[0m\u001b[0m\n\u001b[0m\u001b[0;32m     78\u001b[0m \u001b[1;33m\u001b[0m\u001b[0m\n\u001b[0;32m     79\u001b[0m         self.sampling_strategy_ = check_sampling_strategy(\n",
      "\u001b[1;32m~\\anaconda3\\lib\\site-packages\\imblearn\\under_sampling\\_prototype_selection\\_random_under_sampler.py\u001b[0m in \u001b[0;36m_check_X_y\u001b[1;34m(self, X, y)\u001b[0m\n\u001b[0;32m     83\u001b[0m     \u001b[1;32mdef\u001b[0m \u001b[0m_check_X_y\u001b[0m\u001b[1;33m(\u001b[0m\u001b[0mself\u001b[0m\u001b[1;33m,\u001b[0m \u001b[0mX\u001b[0m\u001b[1;33m,\u001b[0m \u001b[0my\u001b[0m\u001b[1;33m)\u001b[0m\u001b[1;33m:\u001b[0m\u001b[1;33m\u001b[0m\u001b[1;33m\u001b[0m\u001b[0m\n\u001b[0;32m     84\u001b[0m         \u001b[0my\u001b[0m\u001b[1;33m,\u001b[0m \u001b[0mbinarize_y\u001b[0m \u001b[1;33m=\u001b[0m \u001b[0mcheck_target_type\u001b[0m\u001b[1;33m(\u001b[0m\u001b[0my\u001b[0m\u001b[1;33m,\u001b[0m \u001b[0mindicate_one_vs_all\u001b[0m\u001b[1;33m=\u001b[0m\u001b[1;32mTrue\u001b[0m\u001b[1;33m)\u001b[0m\u001b[1;33m\u001b[0m\u001b[1;33m\u001b[0m\u001b[0m\n\u001b[1;32m---> 85\u001b[1;33m         X, y = self._validate_data(\n\u001b[0m\u001b[0;32m     86\u001b[0m             \u001b[0mX\u001b[0m\u001b[1;33m,\u001b[0m \u001b[0my\u001b[0m\u001b[1;33m,\u001b[0m \u001b[0mreset\u001b[0m\u001b[1;33m=\u001b[0m\u001b[1;32mTrue\u001b[0m\u001b[1;33m,\u001b[0m \u001b[0maccept_sparse\u001b[0m\u001b[1;33m=\u001b[0m\u001b[1;33m[\u001b[0m\u001b[1;34m\"csr\"\u001b[0m\u001b[1;33m,\u001b[0m \u001b[1;34m\"csc\"\u001b[0m\u001b[1;33m]\u001b[0m\u001b[1;33m,\u001b[0m \u001b[0mdtype\u001b[0m\u001b[1;33m=\u001b[0m\u001b[1;32mNone\u001b[0m\u001b[1;33m,\u001b[0m\u001b[1;33m\u001b[0m\u001b[1;33m\u001b[0m\u001b[0m\n\u001b[0;32m     87\u001b[0m             \u001b[0mforce_all_finite\u001b[0m\u001b[1;33m=\u001b[0m\u001b[1;32mFalse\u001b[0m\u001b[1;33m,\u001b[0m\u001b[1;33m\u001b[0m\u001b[1;33m\u001b[0m\u001b[0m\n",
      "\u001b[1;31mAttributeError\u001b[0m: 'RandomUnderSampler' object has no attribute '_validate_data'"
     ]
    }
   ],
   "source": [
    "# For train set only !!!\n",
    "rus = RandomUnderSampler(sampling_strategy=\"majority\") \n",
    "x_rus, y_rus = rus.fit_sample(x_train_scaled, y_train)"
   ]
  }
 ],
 "metadata": {
  "kernelspec": {
   "display_name": "Python 3",
   "language": "python",
   "name": "python3"
  },
  "language_info": {
   "codemirror_mode": {
    "name": "ipython",
    "version": 3
   },
   "file_extension": ".py",
   "mimetype": "text/x-python",
   "name": "python",
   "nbconvert_exporter": "python",
   "pygments_lexer": "ipython3",
   "version": "3.7.6-final"
  }
 },
 "nbformat": 4,
 "nbformat_minor": 4
}